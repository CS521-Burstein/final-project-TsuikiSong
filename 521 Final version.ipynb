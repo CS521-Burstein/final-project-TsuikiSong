{
 "cells": [
  {
   "cell_type": "code",
   "execution_count": 2,
   "id": "970a076c",
   "metadata": {},
   "outputs": [],
   "source": [
    "import pandas as pd\n",
    "import numpy as np\n",
    "import matplotlib.pyplot as plt\n",
    "import seaborn as sns\n",
    "%matplotlib inline"
   ]
  },
  {
   "cell_type": "code",
   "execution_count": 3,
   "id": "01f640e1",
   "metadata": {},
   "outputs": [],
   "source": [
    "red = pd.read_csv('winequality-red.csv',sep=';')\n",
    "white = pd.read_csv('winequality-white.csv',sep=';')"
   ]
  },
  {
   "cell_type": "markdown",
   "id": "137c06eb",
   "metadata": {},
   "source": [
    "## PART I VIRTUALIZATION"
   ]
  },
  {
   "cell_type": "code",
   "execution_count": 4,
   "id": "b61b2142",
   "metadata": {},
   "outputs": [],
   "source": [
    "# store wine type as an attribute\n",
    "red['type'] = 'red'   \n",
    "white['type'] = 'white'\n",
    "# merge red and white wine datasets\n",
    "wines = pd.concat([red, white])\n",
    "# re-shuffle records to randomize data points\n",
    "wines = wines.sample(frac = 1, random_state = 3).reset_index(drop = True)"
   ]
  },
  {
   "cell_type": "code",
   "execution_count": 4,
   "id": "ba8add0f",
   "metadata": {},
   "outputs": [
    {
     "data": {
      "text/html": [
       "<div>\n",
       "<style scoped>\n",
       "    .dataframe tbody tr th:only-of-type {\n",
       "        vertical-align: middle;\n",
       "    }\n",
       "\n",
       "    .dataframe tbody tr th {\n",
       "        vertical-align: top;\n",
       "    }\n",
       "\n",
       "    .dataframe thead th {\n",
       "        text-align: right;\n",
       "    }\n",
       "</style>\n",
       "<table border=\"1\" class=\"dataframe\">\n",
       "  <thead>\n",
       "    <tr style=\"text-align: right;\">\n",
       "      <th></th>\n",
       "      <th>fixed acidity</th>\n",
       "      <th>volatile acidity</th>\n",
       "      <th>citric acid</th>\n",
       "      <th>residual sugar</th>\n",
       "      <th>chlorides</th>\n",
       "      <th>free sulfur dioxide</th>\n",
       "      <th>total sulfur dioxide</th>\n",
       "      <th>density</th>\n",
       "      <th>pH</th>\n",
       "      <th>sulphates</th>\n",
       "      <th>alcohol</th>\n",
       "      <th>quality</th>\n",
       "      <th>type</th>\n",
       "    </tr>\n",
       "  </thead>\n",
       "  <tbody>\n",
       "    <tr>\n",
       "      <th>0</th>\n",
       "      <td>5.9</td>\n",
       "      <td>0.180</td>\n",
       "      <td>0.28</td>\n",
       "      <td>1.0</td>\n",
       "      <td>0.037</td>\n",
       "      <td>24.0</td>\n",
       "      <td>88.0</td>\n",
       "      <td>0.99094</td>\n",
       "      <td>3.29</td>\n",
       "      <td>0.55</td>\n",
       "      <td>10.65</td>\n",
       "      <td>7</td>\n",
       "      <td>white</td>\n",
       "    </tr>\n",
       "    <tr>\n",
       "      <th>1</th>\n",
       "      <td>10.2</td>\n",
       "      <td>0.670</td>\n",
       "      <td>0.39</td>\n",
       "      <td>1.9</td>\n",
       "      <td>0.054</td>\n",
       "      <td>6.0</td>\n",
       "      <td>17.0</td>\n",
       "      <td>0.99760</td>\n",
       "      <td>3.17</td>\n",
       "      <td>0.47</td>\n",
       "      <td>10.00</td>\n",
       "      <td>5</td>\n",
       "      <td>red</td>\n",
       "    </tr>\n",
       "    <tr>\n",
       "      <th>2</th>\n",
       "      <td>8.4</td>\n",
       "      <td>0.715</td>\n",
       "      <td>0.20</td>\n",
       "      <td>2.4</td>\n",
       "      <td>0.076</td>\n",
       "      <td>10.0</td>\n",
       "      <td>38.0</td>\n",
       "      <td>0.99735</td>\n",
       "      <td>3.31</td>\n",
       "      <td>0.64</td>\n",
       "      <td>9.40</td>\n",
       "      <td>5</td>\n",
       "      <td>red</td>\n",
       "    </tr>\n",
       "    <tr>\n",
       "      <th>3</th>\n",
       "      <td>6.8</td>\n",
       "      <td>0.370</td>\n",
       "      <td>0.51</td>\n",
       "      <td>11.8</td>\n",
       "      <td>0.044</td>\n",
       "      <td>62.0</td>\n",
       "      <td>163.0</td>\n",
       "      <td>0.99760</td>\n",
       "      <td>3.19</td>\n",
       "      <td>0.44</td>\n",
       "      <td>8.80</td>\n",
       "      <td>5</td>\n",
       "      <td>white</td>\n",
       "    </tr>\n",
       "    <tr>\n",
       "      <th>4</th>\n",
       "      <td>8.9</td>\n",
       "      <td>0.750</td>\n",
       "      <td>0.14</td>\n",
       "      <td>2.5</td>\n",
       "      <td>0.086</td>\n",
       "      <td>9.0</td>\n",
       "      <td>30.0</td>\n",
       "      <td>0.99824</td>\n",
       "      <td>3.34</td>\n",
       "      <td>0.64</td>\n",
       "      <td>10.50</td>\n",
       "      <td>5</td>\n",
       "      <td>red</td>\n",
       "    </tr>\n",
       "  </tbody>\n",
       "</table>\n",
       "</div>"
      ],
      "text/plain": [
       "   fixed acidity  volatile acidity  citric acid  residual sugar  chlorides  \\\n",
       "0            5.9             0.180         0.28             1.0      0.037   \n",
       "1           10.2             0.670         0.39             1.9      0.054   \n",
       "2            8.4             0.715         0.20             2.4      0.076   \n",
       "3            6.8             0.370         0.51            11.8      0.044   \n",
       "4            8.9             0.750         0.14             2.5      0.086   \n",
       "\n",
       "   free sulfur dioxide  total sulfur dioxide  density    pH  sulphates  \\\n",
       "0                 24.0                  88.0  0.99094  3.29       0.55   \n",
       "1                  6.0                  17.0  0.99760  3.17       0.47   \n",
       "2                 10.0                  38.0  0.99735  3.31       0.64   \n",
       "3                 62.0                 163.0  0.99760  3.19       0.44   \n",
       "4                  9.0                  30.0  0.99824  3.34       0.64   \n",
       "\n",
       "   alcohol  quality   type  \n",
       "0    10.65        7  white  \n",
       "1    10.00        5    red  \n",
       "2     9.40        5    red  \n",
       "3     8.80        5  white  \n",
       "4    10.50        5    red  "
      ]
     },
     "execution_count": 4,
     "metadata": {},
     "output_type": "execute_result"
    }
   ],
   "source": [
    "wines.head()"
   ]
  },
  {
   "cell_type": "code",
   "execution_count": 5,
   "id": "93752e7e",
   "metadata": {},
   "outputs": [
    {
     "name": "stdout",
     "output_type": "stream",
     "text": [
      "<class 'pandas.core.frame.DataFrame'>\n",
      "RangeIndex: 6497 entries, 0 to 6496\n",
      "Data columns (total 13 columns):\n",
      " #   Column                Non-Null Count  Dtype  \n",
      "---  ------                --------------  -----  \n",
      " 0   fixed acidity         6497 non-null   float64\n",
      " 1   volatile acidity      6497 non-null   float64\n",
      " 2   citric acid           6497 non-null   float64\n",
      " 3   residual sugar        6497 non-null   float64\n",
      " 4   chlorides             6497 non-null   float64\n",
      " 5   free sulfur dioxide   6497 non-null   float64\n",
      " 6   total sulfur dioxide  6497 non-null   float64\n",
      " 7   density               6497 non-null   float64\n",
      " 8   pH                    6497 non-null   float64\n",
      " 9   sulphates             6497 non-null   float64\n",
      " 10  alcohol               6497 non-null   float64\n",
      " 11  quality               6497 non-null   int64  \n",
      " 12  type                  6497 non-null   object \n",
      "dtypes: float64(11), int64(1), object(1)\n",
      "memory usage: 660.0+ KB\n"
     ]
    }
   ],
   "source": [
    "wines.info()"
   ]
  },
  {
   "cell_type": "code",
   "execution_count": 6,
   "id": "8fc685aa",
   "metadata": {},
   "outputs": [
    {
     "data": {
      "text/html": [
       "<div>\n",
       "<style scoped>\n",
       "    .dataframe tbody tr th:only-of-type {\n",
       "        vertical-align: middle;\n",
       "    }\n",
       "\n",
       "    .dataframe tbody tr th {\n",
       "        vertical-align: top;\n",
       "    }\n",
       "\n",
       "    .dataframe thead th {\n",
       "        text-align: right;\n",
       "    }\n",
       "</style>\n",
       "<table border=\"1\" class=\"dataframe\">\n",
       "  <thead>\n",
       "    <tr style=\"text-align: right;\">\n",
       "      <th></th>\n",
       "      <th>fixed acidity</th>\n",
       "      <th>volatile acidity</th>\n",
       "      <th>citric acid</th>\n",
       "      <th>residual sugar</th>\n",
       "      <th>chlorides</th>\n",
       "      <th>free sulfur dioxide</th>\n",
       "      <th>total sulfur dioxide</th>\n",
       "      <th>density</th>\n",
       "      <th>pH</th>\n",
       "      <th>sulphates</th>\n",
       "      <th>alcohol</th>\n",
       "      <th>quality</th>\n",
       "    </tr>\n",
       "  </thead>\n",
       "  <tbody>\n",
       "    <tr>\n",
       "      <th>count</th>\n",
       "      <td>6497.000000</td>\n",
       "      <td>6497.000000</td>\n",
       "      <td>6497.000000</td>\n",
       "      <td>6497.000000</td>\n",
       "      <td>6497.000000</td>\n",
       "      <td>6497.000000</td>\n",
       "      <td>6497.000000</td>\n",
       "      <td>6497.000000</td>\n",
       "      <td>6497.000000</td>\n",
       "      <td>6497.000000</td>\n",
       "      <td>6497.000000</td>\n",
       "      <td>6497.000000</td>\n",
       "    </tr>\n",
       "    <tr>\n",
       "      <th>mean</th>\n",
       "      <td>7.215307</td>\n",
       "      <td>0.339666</td>\n",
       "      <td>0.318633</td>\n",
       "      <td>5.443235</td>\n",
       "      <td>0.056034</td>\n",
       "      <td>30.525319</td>\n",
       "      <td>115.744574</td>\n",
       "      <td>0.994697</td>\n",
       "      <td>3.218501</td>\n",
       "      <td>0.531268</td>\n",
       "      <td>10.491801</td>\n",
       "      <td>5.818378</td>\n",
       "    </tr>\n",
       "    <tr>\n",
       "      <th>std</th>\n",
       "      <td>1.296434</td>\n",
       "      <td>0.164636</td>\n",
       "      <td>0.145318</td>\n",
       "      <td>4.757804</td>\n",
       "      <td>0.035034</td>\n",
       "      <td>17.749400</td>\n",
       "      <td>56.521855</td>\n",
       "      <td>0.002999</td>\n",
       "      <td>0.160787</td>\n",
       "      <td>0.148806</td>\n",
       "      <td>1.192712</td>\n",
       "      <td>0.873255</td>\n",
       "    </tr>\n",
       "    <tr>\n",
       "      <th>min</th>\n",
       "      <td>3.800000</td>\n",
       "      <td>0.080000</td>\n",
       "      <td>0.000000</td>\n",
       "      <td>0.600000</td>\n",
       "      <td>0.009000</td>\n",
       "      <td>1.000000</td>\n",
       "      <td>6.000000</td>\n",
       "      <td>0.987110</td>\n",
       "      <td>2.720000</td>\n",
       "      <td>0.220000</td>\n",
       "      <td>8.000000</td>\n",
       "      <td>3.000000</td>\n",
       "    </tr>\n",
       "    <tr>\n",
       "      <th>25%</th>\n",
       "      <td>6.400000</td>\n",
       "      <td>0.230000</td>\n",
       "      <td>0.250000</td>\n",
       "      <td>1.800000</td>\n",
       "      <td>0.038000</td>\n",
       "      <td>17.000000</td>\n",
       "      <td>77.000000</td>\n",
       "      <td>0.992340</td>\n",
       "      <td>3.110000</td>\n",
       "      <td>0.430000</td>\n",
       "      <td>9.500000</td>\n",
       "      <td>5.000000</td>\n",
       "    </tr>\n",
       "    <tr>\n",
       "      <th>50%</th>\n",
       "      <td>7.000000</td>\n",
       "      <td>0.290000</td>\n",
       "      <td>0.310000</td>\n",
       "      <td>3.000000</td>\n",
       "      <td>0.047000</td>\n",
       "      <td>29.000000</td>\n",
       "      <td>118.000000</td>\n",
       "      <td>0.994890</td>\n",
       "      <td>3.210000</td>\n",
       "      <td>0.510000</td>\n",
       "      <td>10.300000</td>\n",
       "      <td>6.000000</td>\n",
       "    </tr>\n",
       "    <tr>\n",
       "      <th>75%</th>\n",
       "      <td>7.700000</td>\n",
       "      <td>0.400000</td>\n",
       "      <td>0.390000</td>\n",
       "      <td>8.100000</td>\n",
       "      <td>0.065000</td>\n",
       "      <td>41.000000</td>\n",
       "      <td>156.000000</td>\n",
       "      <td>0.996990</td>\n",
       "      <td>3.320000</td>\n",
       "      <td>0.600000</td>\n",
       "      <td>11.300000</td>\n",
       "      <td>6.000000</td>\n",
       "    </tr>\n",
       "    <tr>\n",
       "      <th>max</th>\n",
       "      <td>15.900000</td>\n",
       "      <td>1.580000</td>\n",
       "      <td>1.660000</td>\n",
       "      <td>65.800000</td>\n",
       "      <td>0.611000</td>\n",
       "      <td>289.000000</td>\n",
       "      <td>440.000000</td>\n",
       "      <td>1.038980</td>\n",
       "      <td>4.010000</td>\n",
       "      <td>2.000000</td>\n",
       "      <td>14.900000</td>\n",
       "      <td>9.000000</td>\n",
       "    </tr>\n",
       "  </tbody>\n",
       "</table>\n",
       "</div>"
      ],
      "text/plain": [
       "       fixed acidity  volatile acidity  citric acid  residual sugar  \\\n",
       "count    6497.000000       6497.000000  6497.000000     6497.000000   \n",
       "mean        7.215307          0.339666     0.318633        5.443235   \n",
       "std         1.296434          0.164636     0.145318        4.757804   \n",
       "min         3.800000          0.080000     0.000000        0.600000   \n",
       "25%         6.400000          0.230000     0.250000        1.800000   \n",
       "50%         7.000000          0.290000     0.310000        3.000000   \n",
       "75%         7.700000          0.400000     0.390000        8.100000   \n",
       "max        15.900000          1.580000     1.660000       65.800000   \n",
       "\n",
       "         chlorides  free sulfur dioxide  total sulfur dioxide      density  \\\n",
       "count  6497.000000          6497.000000           6497.000000  6497.000000   \n",
       "mean      0.056034            30.525319            115.744574     0.994697   \n",
       "std       0.035034            17.749400             56.521855     0.002999   \n",
       "min       0.009000             1.000000              6.000000     0.987110   \n",
       "25%       0.038000            17.000000             77.000000     0.992340   \n",
       "50%       0.047000            29.000000            118.000000     0.994890   \n",
       "75%       0.065000            41.000000            156.000000     0.996990   \n",
       "max       0.611000           289.000000            440.000000     1.038980   \n",
       "\n",
       "                pH    sulphates      alcohol      quality  \n",
       "count  6497.000000  6497.000000  6497.000000  6497.000000  \n",
       "mean      3.218501     0.531268    10.491801     5.818378  \n",
       "std       0.160787     0.148806     1.192712     0.873255  \n",
       "min       2.720000     0.220000     8.000000     3.000000  \n",
       "25%       3.110000     0.430000     9.500000     5.000000  \n",
       "50%       3.210000     0.510000    10.300000     6.000000  \n",
       "75%       3.320000     0.600000    11.300000     6.000000  \n",
       "max       4.010000     2.000000    14.900000     9.000000  "
      ]
     },
     "execution_count": 6,
     "metadata": {},
     "output_type": "execute_result"
    }
   ],
   "source": [
    "wines.describe()"
   ]
  },
  {
   "cell_type": "code",
   "execution_count": 7,
   "id": "f1a87809",
   "metadata": {},
   "outputs": [
    {
     "data": {
      "image/png": "[encoded data removed]",
      "text/plain": [
       "<Figure size 432x288 with 12 Axes>"
      ]
     },
     "metadata": {
      "needs_background": "light"
     },
     "output_type": "display_data"
    }
   ],
   "source": [
    "wines.hist(bins = 20, color = '#ff8a5c', edgecolor = 'black', \n",
    "           linewidth = 1.0, xlabelsize = 8, ylabelsize = 8, grid = False)    \n",
    "plt.tight_layout(rect = (0, 0, 2, 2))"
   ]
  },
  {
   "cell_type": "markdown",
   "id": "e7182eff",
   "metadata": {},
   "source": [
    "Using histograms to visualize all numeric data and understand the distribution, the plots above give us a first look at the distribution of all attribute data for red and white wines. And then, we'll drill down to looking at some of these continuous numeric attributes."
   ]
  },
  {
   "cell_type": "code",
   "execution_count": 8,
   "id": "eb58dfb1",
   "metadata": {},
   "outputs": [
    {
     "data": {
      "image/png": "[encoded data removed]",
      "text/plain": [
       "<Figure size 648x360 with 1 Axes>"
      ]
     },
     "metadata": {
      "needs_background": "light"
     },
     "output_type": "display_data"
    }
   ],
   "source": [
    "plt.figure(figsize = (9,5))\n",
    "figquality = sns.countplot(x = 'quality', hue = 'type' , data = wines, \n",
    "                           palette = {\"red\": \"#C1292E\", \"white\": \"#fff591\"})\n",
    "figquality.set_title(\"Wines Quality Distribution\")\n",
    "for p in figquality.patches:\n",
    "    figquality.annotate(f'\\n{p.get_height()}', \n",
    "                        (p.get_x(), p.get_height()+10), color ='black', size = 10)"
   ]
  },
  {
   "cell_type": "markdown",
   "id": "57a95b32",
   "metadata": {},
   "source": [
    "The above plot shows the quality distribution of red and white wine, we can clearly see that the quliaty of wine is mainly concentrated in 5 and 6. Among them, the quality range of White wine is more extensive, ranging from 3 to 9, mainly concentrated in 6, and the total number of wine is 1.5 times that of quality 5; Red wine’s distribution of quality 5 and quality 6 is relatively similar, but significantly more than other quality rate."
   ]
  },
  {
   "cell_type": "code",
   "execution_count": 9,
   "id": "97ecf4e3",
   "metadata": {},
   "outputs": [
    {
     "data": {
      "text/plain": [
       "Text(0.5, 1.0, 'Wines pH Distribution')"
      ]
     },
     "execution_count": 9,
     "metadata": {},
     "output_type": "execute_result"
    },
    {
     "data": {
      "image/png": "[encoded data removed]",
      "text/plain": [
       "<Figure size 648x360 with 1 Axes>"
      ]
     },
     "metadata": {
      "needs_background": "light"
     },
     "output_type": "display_data"
    }
   ],
   "source": [
    "plt.figure(figsize = (9,5))\n",
    "wineph = sns.histplot(wines, x = \"pH\", hue = 'type', bins = 20, )\n",
    "wineph.set_title(\"Wines pH Distribution\")"
   ]
  },
  {
   "cell_type": "markdown",
   "id": "db0f51f4",
   "metadata": {},
   "source": [
    "Through the pH distribution of red wine and white wine, we can find that the pH of the two wines is similar, and the white wine is generally more acidic. Most white wines have a pH in the 3.0-3.2 range, while most red wines have a pH in the 3.2-3.4 range. Also, in the range of 3.8-4.0 is almost red wine."
   ]
  },
  {
   "cell_type": "code",
   "execution_count": 10,
   "id": "3f96af31",
   "metadata": {},
   "outputs": [
    {
     "data": {
      "text/plain": [
       "<AxesSubplot:>"
      ]
     },
     "execution_count": 10,
     "metadata": {},
     "output_type": "execute_result"
    },
    {
     "data": {
      "image/png": "[encoded data removed]",
      "text/plain": [
       "<Figure size 1152x360 with 2 Axes>"
      ]
     },
     "metadata": {
      "needs_background": "light"
     },
     "output_type": "display_data"
    }
   ],
   "source": [
    "plt.figure(figsize = (16,5))\n",
    "sns.heatmap(wines.corr(), annot = True)"
   ]
  },
  {
   "cell_type": "markdown",
   "id": "2c350336",
   "metadata": {},
   "source": [
    "We used heatmaps to examine potential relationships between different data attributes. And established a pivot table, in order to explore more interesting information."
   ]
  },
  {
   "cell_type": "code",
   "execution_count": 11,
   "id": "990f3f8c",
   "metadata": {},
   "outputs": [
    {
     "data": {
      "text/html": [
       "<div>\n",
       "<style scoped>\n",
       "    .dataframe tbody tr th:only-of-type {\n",
       "        vertical-align: middle;\n",
       "    }\n",
       "\n",
       "    .dataframe tbody tr th {\n",
       "        vertical-align: top;\n",
       "    }\n",
       "\n",
       "    .dataframe thead th {\n",
       "        text-align: right;\n",
       "    }\n",
       "</style>\n",
       "<table border=\"1\" class=\"dataframe\">\n",
       "  <thead>\n",
       "    <tr style=\"text-align: right;\">\n",
       "      <th></th>\n",
       "      <th>alcohol</th>\n",
       "      <th>chlorides</th>\n",
       "      <th>citric acid</th>\n",
       "      <th>density</th>\n",
       "      <th>fixed acidity</th>\n",
       "      <th>free sulfur dioxide</th>\n",
       "      <th>pH</th>\n",
       "      <th>residual sugar</th>\n",
       "      <th>sulphates</th>\n",
       "      <th>total sulfur dioxide</th>\n",
       "      <th>volatile acidity</th>\n",
       "    </tr>\n",
       "    <tr>\n",
       "      <th>quality</th>\n",
       "      <th></th>\n",
       "      <th></th>\n",
       "      <th></th>\n",
       "      <th></th>\n",
       "      <th></th>\n",
       "      <th></th>\n",
       "      <th></th>\n",
       "      <th></th>\n",
       "      <th></th>\n",
       "      <th></th>\n",
       "      <th></th>\n",
       "    </tr>\n",
       "  </thead>\n",
       "  <tbody>\n",
       "    <tr>\n",
       "      <th>5</th>\n",
       "      <td>9.838</td>\n",
       "      <td>0.065</td>\n",
       "      <td>0.308</td>\n",
       "      <td>0.996</td>\n",
       "      <td>7.327</td>\n",
       "      <td>30.237</td>\n",
       "      <td>3.212</td>\n",
       "      <td>5.804</td>\n",
       "      <td>0.526</td>\n",
       "      <td>120.839</td>\n",
       "      <td>0.390</td>\n",
       "    </tr>\n",
       "    <tr>\n",
       "      <th>4</th>\n",
       "      <td>10.180</td>\n",
       "      <td>0.060</td>\n",
       "      <td>0.272</td>\n",
       "      <td>0.995</td>\n",
       "      <td>7.289</td>\n",
       "      <td>20.637</td>\n",
       "      <td>3.232</td>\n",
       "      <td>4.154</td>\n",
       "      <td>0.506</td>\n",
       "      <td>103.433</td>\n",
       "      <td>0.458</td>\n",
       "    </tr>\n",
       "    <tr>\n",
       "      <th>3</th>\n",
       "      <td>10.215</td>\n",
       "      <td>0.077</td>\n",
       "      <td>0.281</td>\n",
       "      <td>0.996</td>\n",
       "      <td>7.853</td>\n",
       "      <td>39.217</td>\n",
       "      <td>3.258</td>\n",
       "      <td>5.140</td>\n",
       "      <td>0.506</td>\n",
       "      <td>122.033</td>\n",
       "      <td>0.517</td>\n",
       "    </tr>\n",
       "    <tr>\n",
       "      <th>6</th>\n",
       "      <td>10.588</td>\n",
       "      <td>0.054</td>\n",
       "      <td>0.324</td>\n",
       "      <td>0.995</td>\n",
       "      <td>7.177</td>\n",
       "      <td>31.165</td>\n",
       "      <td>3.218</td>\n",
       "      <td>5.550</td>\n",
       "      <td>0.533</td>\n",
       "      <td>115.411</td>\n",
       "      <td>0.314</td>\n",
       "    </tr>\n",
       "    <tr>\n",
       "      <th>7</th>\n",
       "      <td>11.386</td>\n",
       "      <td>0.045</td>\n",
       "      <td>0.335</td>\n",
       "      <td>0.993</td>\n",
       "      <td>7.129</td>\n",
       "      <td>30.422</td>\n",
       "      <td>3.228</td>\n",
       "      <td>4.732</td>\n",
       "      <td>0.547</td>\n",
       "      <td>108.499</td>\n",
       "      <td>0.289</td>\n",
       "    </tr>\n",
       "    <tr>\n",
       "      <th>8</th>\n",
       "      <td>11.679</td>\n",
       "      <td>0.041</td>\n",
       "      <td>0.333</td>\n",
       "      <td>0.993</td>\n",
       "      <td>6.835</td>\n",
       "      <td>34.534</td>\n",
       "      <td>3.223</td>\n",
       "      <td>5.383</td>\n",
       "      <td>0.512</td>\n",
       "      <td>117.518</td>\n",
       "      <td>0.291</td>\n",
       "    </tr>\n",
       "    <tr>\n",
       "      <th>9</th>\n",
       "      <td>12.180</td>\n",
       "      <td>0.027</td>\n",
       "      <td>0.386</td>\n",
       "      <td>0.991</td>\n",
       "      <td>7.420</td>\n",
       "      <td>33.400</td>\n",
       "      <td>3.308</td>\n",
       "      <td>4.120</td>\n",
       "      <td>0.466</td>\n",
       "      <td>116.000</td>\n",
       "      <td>0.298</td>\n",
       "    </tr>\n",
       "  </tbody>\n",
       "</table>\n",
       "</div>"
      ],
      "text/plain": [
       "         alcohol  chlorides  citric acid  density  fixed acidity  \\\n",
       "quality                                                            \n",
       "5          9.838      0.065        0.308    0.996          7.327   \n",
       "4         10.180      0.060        0.272    0.995          7.289   \n",
       "3         10.215      0.077        0.281    0.996          7.853   \n",
       "6         10.588      0.054        0.324    0.995          7.177   \n",
       "7         11.386      0.045        0.335    0.993          7.129   \n",
       "8         11.679      0.041        0.333    0.993          6.835   \n",
       "9         12.180      0.027        0.386    0.991          7.420   \n",
       "\n",
       "         free sulfur dioxide     pH  residual sugar  sulphates  \\\n",
       "quality                                                          \n",
       "5                     30.237  3.212           5.804      0.526   \n",
       "4                     20.637  3.232           4.154      0.506   \n",
       "3                     39.217  3.258           5.140      0.506   \n",
       "6                     31.165  3.218           5.550      0.533   \n",
       "7                     30.422  3.228           4.732      0.547   \n",
       "8                     34.534  3.223           5.383      0.512   \n",
       "9                     33.400  3.308           4.120      0.466   \n",
       "\n",
       "         total sulfur dioxide  volatile acidity  \n",
       "quality                                          \n",
       "5                     120.839             0.390  \n",
       "4                     103.433             0.458  \n",
       "3                     122.033             0.517  \n",
       "6                     115.411             0.314  \n",
       "7                     108.499             0.289  \n",
       "8                     117.518             0.291  \n",
       "9                     116.000             0.298  "
      ]
     },
     "execution_count": 11,
     "metadata": {},
     "output_type": "execute_result"
    }
   ],
   "source": [
    "table = pd.pivot_table(wines, index = ['quality']).round(3)\n",
    "table.sort_values(by = 'alcohol', ascending = True)"
   ]
  },
  {
   "cell_type": "code",
   "execution_count": 12,
   "id": "463c5907",
   "metadata": {},
   "outputs": [
    {
     "data": {
      "text/plain": [
       "<seaborn.axisgrid.FacetGrid at 0x1a2970bff40>"
      ]
     },
     "execution_count": 12,
     "metadata": {},
     "output_type": "execute_result"
    },
    {
     "data": {
      "image/png": "[encoded data removed]",
      "text/plain": [
       "<Figure size 360x360 with 1 Axes>"
      ]
     },
     "metadata": {
      "needs_background": "light"
     },
     "output_type": "display_data"
    }
   ],
   "source": [
    "sns.catplot(x = \"quality\", y = \"alcohol\", kind = \"box\", data = wines)"
   ]
  },
  {
   "cell_type": "markdown",
   "id": "b58fb438",
   "metadata": {},
   "source": [
    "Through the boxplot, we can notice the relationship between wine quality and alcohol content, the average alcohol content of quality 3-5 decreases, while the average alcohol content of quality 5-9 gradually increases. Quality 5 and up, the higher the quality, the higher the alcohol content. Among them, the alcohol content of wine with quality 5 has a wider distribution range, and the alcohol content of wine with quality 9 is more concentrated than other qualities."
   ]
  },
  {
   "cell_type": "code",
   "execution_count": 13,
   "id": "5def11e1",
   "metadata": {},
   "outputs": [
    {
     "data": {
      "text/plain": [
       "<AxesSubplot:xlabel='sulphates', ylabel='residual sugar'>"
      ]
     },
     "execution_count": 13,
     "metadata": {},
     "output_type": "execute_result"
    },
    {
     "data": {
      "image/png": "[encoded data removed]",
      "text/plain": [
       "<Figure size 648x360 with 1 Axes>"
      ]
     },
     "metadata": {
      "needs_background": "light"
     },
     "output_type": "display_data"
    }
   ],
   "source": [
    "plt.figure(figsize = (9,5))\n",
    "sns.scatterplot(x = \"sulphates\", y = \"residual sugar\", hue = \"type\", \n",
    "                palette = {\"red\": \"#C1292E\", \"white\": \"#fff591\"},\n",
    "                edgecolor = \"k\", linewidth = 0.5, data = wines)"
   ]
  },
  {
   "cell_type": "markdown",
   "id": "3d1cf035",
   "metadata": {},
   "source": [
    "Since we were interested in the relationship of wine attributes, a scatter plot of sulphates and residual sugar is made, and we observed the different characteristics of red wine and white wine. As can be seen from the plot above, although there is very weak correlation, we can still notice sulphates are slightly higher for red wines than white wines, while white wine has residual sugar is significantly for white wines as compare to red wine."
   ]
  },
  {
   "cell_type": "markdown",
   "id": "e3a02809",
   "metadata": {},
   "source": [
    "## PART II CLASSIFICATION"
   ]
  },
  {
   "cell_type": "code",
   "execution_count": 44,
   "id": "8a39443f",
   "metadata": {},
   "outputs": [],
   "source": [
    "wines = pd.get_dummies(data=wines,columns=['type'],drop_first=True)"
   ]
  },
  {
   "cell_type": "code",
   "execution_count": 45,
   "id": "aeeb61a9",
   "metadata": {},
   "outputs": [],
   "source": [
    "from sklearn.model_selection import train_test_split"
   ]
  },
  {
   "cell_type": "code",
   "execution_count": 56,
   "id": "55b7b0a2",
   "metadata": {},
   "outputs": [],
   "source": [
    "X = wines.drop(['quality'],axis=1)\n",
    "y = wines['quality']"
   ]
  },
  {
   "cell_type": "code",
   "execution_count": 99,
   "id": "89de2576",
   "metadata": {},
   "outputs": [],
   "source": [
    "X_train, X_test, y_train, y_test = train_test_split(X, y, test_size=0.45, random_state=42)"
   ]
  },
  {
   "cell_type": "code",
   "execution_count": 100,
   "id": "dec35c99",
   "metadata": {},
   "outputs": [],
   "source": [
    "from sklearn.ensemble import RandomForestClassifier"
   ]
  },
  {
   "cell_type": "code",
   "execution_count": 108,
   "id": "704cbc2f",
   "metadata": {},
   "outputs": [
    {
     "data": {
      "text/plain": [
       "RandomForestClassifier(max_depth=11, max_features=9, n_estimators=150)"
      ]
     },
     "execution_count": 108,
     "metadata": {},
     "output_type": "execute_result"
    }
   ],
   "source": [
    "clf = RandomForestClassifier(n_estimators=150,max_depth=11,max_features=9)\n",
    "clf.fit(X_train,y_train)"
   ]
  },
  {
   "cell_type": "code",
   "execution_count": 102,
   "id": "8d783d1a",
   "metadata": {},
   "outputs": [],
   "source": [
    "from sklearn.model_selection import GridSearchCV"
   ]
  },
  {
   "cell_type": "code",
   "execution_count": 103,
   "id": "0dc6c20a",
   "metadata": {
    "scrolled": true
   },
   "outputs": [
    {
     "name": "stdout",
     "output_type": "stream",
     "text": [
      "Fitting 5 folds for each of 81 candidates, totalling 405 fits\n"
     ]
    },
    {
     "name": "stderr",
     "output_type": "stream",
     "text": [
      "C:\\Users\\Xiangxian Song\\anaconda3\\lib\\site-packages\\sklearn\\model_selection\\_split.py:666: UserWarning: The least populated class in y has only 2 members, which is less than n_splits=5.\n",
      "  warnings.warn((\"The least populated class in y has only %d\"\n"
     ]
    },
    {
     "name": "stdout",
     "output_type": "stream",
     "text": [
      "[CV 1/5] END max_depth=5, max_features=7, min_samples_leaf=10, n_estimators=100;, score=0.551 total time=   0.8s\n",
      "[CV 2/5] END max_depth=5, max_features=7, min_samples_leaf=10, n_estimators=100;, score=0.568 total time=   0.8s\n",
      "[CV 3/5] END max_depth=5, max_features=7, min_samples_leaf=10, n_estimators=100;, score=0.564 total time=   0.8s\n",
      "[CV 4/5] END max_depth=5, max_features=7, min_samples_leaf=10, n_estimators=100;, score=0.549 total time=   0.8s\n",
      "[CV 5/5] END max_depth=5, max_features=7, min_samples_leaf=10, n_estimators=100;, score=0.562 total time=   0.8s\n",
      "[CV 1/5] END max_depth=5, max_features=7, min_samples_leaf=10, n_estimators=150;, score=0.562 total time=   1.3s\n",
      "[CV 2/5] END max_depth=5, max_features=7, min_samples_leaf=10, n_estimators=150;, score=0.572 total time=   1.3s\n",
      "[CV 3/5] END max_depth=5, max_features=7, min_samples_leaf=10, n_estimators=150;, score=0.567 total time=   1.3s\n",
      "[CV 4/5] END max_depth=5, max_features=7, min_samples_leaf=10, n_estimators=150;, score=0.548 total time=   1.3s\n",
      "[CV 5/5] END max_depth=5, max_features=7, min_samples_leaf=10, n_estimators=150;, score=0.565 total time=   1.3s\n",
      "[CV 1/5] END max_depth=5, max_features=7, min_samples_leaf=10, n_estimators=200;, score=0.560 total time=   1.7s\n",
      "[CV 2/5] END max_depth=5, max_features=7, min_samples_leaf=10, n_estimators=200;, score=0.573 total time=   1.7s\n",
      "[CV 3/5] END max_depth=5, max_features=7, min_samples_leaf=10, n_estimators=200;, score=0.567 total time=   1.7s\n",
      "[CV 4/5] END max_depth=5, max_features=7, min_samples_leaf=10, n_estimators=200;, score=0.555 total time=   1.7s\n",
      "[CV 5/5] END max_depth=5, max_features=7, min_samples_leaf=10, n_estimators=200;, score=0.564 total time=   1.8s\n",
      "[CV 1/5] END max_depth=5, max_features=7, min_samples_leaf=15, n_estimators=100;, score=0.559 total time=   0.8s\n",
      "[CV 2/5] END max_depth=5, max_features=7, min_samples_leaf=15, n_estimators=100;, score=0.577 total time=   0.8s\n",
      "[CV 3/5] END max_depth=5, max_features=7, min_samples_leaf=15, n_estimators=100;, score=0.560 total time=   0.8s\n",
      "[CV 4/5] END max_depth=5, max_features=7, min_samples_leaf=15, n_estimators=100;, score=0.544 total time=   0.8s\n",
      "[CV 5/5] END max_depth=5, max_features=7, min_samples_leaf=15, n_estimators=100;, score=0.567 total time=   0.8s\n",
      "[CV 1/5] END max_depth=5, max_features=7, min_samples_leaf=15, n_estimators=150;, score=0.562 total time=   1.3s\n",
      "[CV 2/5] END max_depth=5, max_features=7, min_samples_leaf=15, n_estimators=150;, score=0.571 total time=   1.3s\n",
      "[CV 3/5] END max_depth=5, max_features=7, min_samples_leaf=15, n_estimators=150;, score=0.560 total time=   1.3s\n",
      "[CV 4/5] END max_depth=5, max_features=7, min_samples_leaf=15, n_estimators=150;, score=0.549 total time=   1.3s\n",
      "[CV 5/5] END max_depth=5, max_features=7, min_samples_leaf=15, n_estimators=150;, score=0.566 total time=   1.3s\n",
      "[CV 1/5] END max_depth=5, max_features=7, min_samples_leaf=15, n_estimators=200;, score=0.554 total time=   1.7s\n",
      "[CV 2/5] END max_depth=5, max_features=7, min_samples_leaf=15, n_estimators=200;, score=0.569 total time=   1.7s\n",
      "[CV 3/5] END max_depth=5, max_features=7, min_samples_leaf=15, n_estimators=200;, score=0.563 total time=   1.7s\n",
      "[CV 4/5] END max_depth=5, max_features=7, min_samples_leaf=15, n_estimators=200;, score=0.560 total time=   1.7s\n",
      "[CV 5/5] END max_depth=5, max_features=7, min_samples_leaf=15, n_estimators=200;, score=0.561 total time=   1.7s\n",
      "[CV 1/5] END max_depth=5, max_features=7, min_samples_leaf=20, n_estimators=100;, score=0.555 total time=   0.8s\n",
      "[CV 2/5] END max_depth=5, max_features=7, min_samples_leaf=20, n_estimators=100;, score=0.573 total time=   0.8s\n",
      "[CV 3/5] END max_depth=5, max_features=7, min_samples_leaf=20, n_estimators=100;, score=0.560 total time=   0.8s\n",
      "[CV 4/5] END max_depth=5, max_features=7, min_samples_leaf=20, n_estimators=100;, score=0.551 total time=   0.8s\n",
      "[CV 5/5] END max_depth=5, max_features=7, min_samples_leaf=20, n_estimators=100;, score=0.566 total time=   0.8s\n",
      "[CV 1/5] END max_depth=5, max_features=7, min_samples_leaf=20, n_estimators=150;, score=0.559 total time=   1.3s\n",
      "[CV 2/5] END max_depth=5, max_features=7, min_samples_leaf=20, n_estimators=150;, score=0.574 total time=   1.3s\n",
      "[CV 3/5] END max_depth=5, max_features=7, min_samples_leaf=20, n_estimators=150;, score=0.565 total time=   1.2s\n",
      "[CV 4/5] END max_depth=5, max_features=7, min_samples_leaf=20, n_estimators=150;, score=0.542 total time=   1.2s\n",
      "[CV 5/5] END max_depth=5, max_features=7, min_samples_leaf=20, n_estimators=150;, score=0.561 total time=   1.3s\n",
      "[CV 1/5] END max_depth=5, max_features=7, min_samples_leaf=20, n_estimators=200;, score=0.555 total time=   1.7s\n",
      "[CV 2/5] END max_depth=5, max_features=7, min_samples_leaf=20, n_estimators=200;, score=0.571 total time=   1.7s\n",
      "[CV 3/5] END max_depth=5, max_features=7, min_samples_leaf=20, n_estimators=200;, score=0.567 total time=   1.7s\n",
      "[CV 4/5] END max_depth=5, max_features=7, min_samples_leaf=20, n_estimators=200;, score=0.552 total time=   1.7s\n",
      "[CV 5/5] END max_depth=5, max_features=7, min_samples_leaf=20, n_estimators=200;, score=0.561 total time=   1.7s\n",
      "[CV 1/5] END max_depth=5, max_features=9, min_samples_leaf=10, n_estimators=100;, score=0.558 total time=   1.0s\n",
      "[CV 2/5] END max_depth=5, max_features=9, min_samples_leaf=10, n_estimators=100;, score=0.581 total time=   1.0s\n",
      "[CV 3/5] END max_depth=5, max_features=9, min_samples_leaf=10, n_estimators=100;, score=0.560 total time=   1.0s\n",
      "[CV 4/5] END max_depth=5, max_features=9, min_samples_leaf=10, n_estimators=100;, score=0.558 total time=   1.0s\n",
      "[CV 5/5] END max_depth=5, max_features=9, min_samples_leaf=10, n_estimators=100;, score=0.561 total time=   1.0s\n",
      "[CV 1/5] END max_depth=5, max_features=9, min_samples_leaf=10, n_estimators=150;, score=0.556 total time=   1.5s\n",
      "[CV 2/5] END max_depth=5, max_features=9, min_samples_leaf=10, n_estimators=150;, score=0.577 total time=   1.6s\n",
      "[CV 3/5] END max_depth=5, max_features=9, min_samples_leaf=10, n_estimators=150;, score=0.563 total time=   1.5s\n",
      "[CV 4/5] END max_depth=5, max_features=9, min_samples_leaf=10, n_estimators=150;, score=0.561 total time=   1.5s\n",
      "[CV 5/5] END max_depth=5, max_features=9, min_samples_leaf=10, n_estimators=150;, score=0.565 total time=   1.5s\n",
      "[CV 1/5] END max_depth=5, max_features=9, min_samples_leaf=10, n_estimators=200;, score=0.564 total time=   2.1s\n",
      "[CV 2/5] END max_depth=5, max_features=9, min_samples_leaf=10, n_estimators=200;, score=0.573 total time=   2.1s\n",
      "[CV 3/5] END max_depth=5, max_features=9, min_samples_leaf=10, n_estimators=200;, score=0.562 total time=   2.1s\n",
      "[CV 4/5] END max_depth=5, max_features=9, min_samples_leaf=10, n_estimators=200;, score=0.562 total time=   2.1s\n",
      "[CV 5/5] END max_depth=5, max_features=9, min_samples_leaf=10, n_estimators=200;, score=0.564 total time=   2.1s\n",
      "[CV 1/5] END max_depth=5, max_features=9, min_samples_leaf=15, n_estimators=100;, score=0.563 total time=   1.0s\n",
      "[CV 2/5] END max_depth=5, max_features=9, min_samples_leaf=15, n_estimators=100;, score=0.571 total time=   1.0s\n",
      "[CV 3/5] END max_depth=5, max_features=9, min_samples_leaf=15, n_estimators=100;, score=0.564 total time=   1.0s\n",
      "[CV 4/5] END max_depth=5, max_features=9, min_samples_leaf=15, n_estimators=100;, score=0.556 total time=   1.0s\n",
      "[CV 5/5] END max_depth=5, max_features=9, min_samples_leaf=15, n_estimators=100;, score=0.562 total time=   1.0s\n",
      "[CV 1/5] END max_depth=5, max_features=9, min_samples_leaf=15, n_estimators=150;, score=0.559 total time=   1.5s\n",
      "[CV 2/5] END max_depth=5, max_features=9, min_samples_leaf=15, n_estimators=150;, score=0.576 total time=   1.5s\n",
      "[CV 3/5] END max_depth=5, max_features=9, min_samples_leaf=15, n_estimators=150;, score=0.564 total time=   1.5s\n",
      "[CV 4/5] END max_depth=5, max_features=9, min_samples_leaf=15, n_estimators=150;, score=0.564 total time=   1.6s\n",
      "[CV 5/5] END max_depth=5, max_features=9, min_samples_leaf=15, n_estimators=150;, score=0.567 total time=   1.5s\n",
      "[CV 1/5] END max_depth=5, max_features=9, min_samples_leaf=15, n_estimators=200;, score=0.562 total time=   2.1s\n",
      "[CV 2/5] END max_depth=5, max_features=9, min_samples_leaf=15, n_estimators=200;, score=0.574 total time=   2.2s\n",
      "[CV 3/5] END max_depth=5, max_features=9, min_samples_leaf=15, n_estimators=200;, score=0.563 total time=   2.1s\n"
     ]
    },
    {
     "name": "stdout",
     "output_type": "stream",
     "text": [
      "[CV 4/5] END max_depth=5, max_features=9, min_samples_leaf=15, n_estimators=200;, score=0.558 total time=   2.1s\n",
      "[CV 5/5] END max_depth=5, max_features=9, min_samples_leaf=15, n_estimators=200;, score=0.566 total time=   2.1s\n",
      "[CV 1/5] END max_depth=5, max_features=9, min_samples_leaf=20, n_estimators=100;, score=0.563 total time=   1.0s\n",
      "[CV 2/5] END max_depth=5, max_features=9, min_samples_leaf=20, n_estimators=100;, score=0.572 total time=   1.0s\n",
      "[CV 3/5] END max_depth=5, max_features=9, min_samples_leaf=20, n_estimators=100;, score=0.568 total time=   1.0s\n",
      "[CV 4/5] END max_depth=5, max_features=9, min_samples_leaf=20, n_estimators=100;, score=0.561 total time=   1.0s\n",
      "[CV 5/5] END max_depth=5, max_features=9, min_samples_leaf=20, n_estimators=100;, score=0.567 total time=   1.0s\n",
      "[CV 1/5] END max_depth=5, max_features=9, min_samples_leaf=20, n_estimators=150;, score=0.554 total time=   1.5s\n",
      "[CV 2/5] END max_depth=5, max_features=9, min_samples_leaf=20, n_estimators=150;, score=0.571 total time=   1.5s\n",
      "[CV 3/5] END max_depth=5, max_features=9, min_samples_leaf=20, n_estimators=150;, score=0.567 total time=   1.5s\n",
      "[CV 4/5] END max_depth=5, max_features=9, min_samples_leaf=20, n_estimators=150;, score=0.562 total time=   1.5s\n",
      "[CV 5/5] END max_depth=5, max_features=9, min_samples_leaf=20, n_estimators=150;, score=0.566 total time=   1.5s\n",
      "[CV 1/5] END max_depth=5, max_features=9, min_samples_leaf=20, n_estimators=200;, score=0.555 total time=   2.0s\n",
      "[CV 2/5] END max_depth=5, max_features=9, min_samples_leaf=20, n_estimators=200;, score=0.581 total time=   2.0s\n",
      "[CV 3/5] END max_depth=5, max_features=9, min_samples_leaf=20, n_estimators=200;, score=0.563 total time=   2.1s\n",
      "[CV 4/5] END max_depth=5, max_features=9, min_samples_leaf=20, n_estimators=200;, score=0.552 total time=   2.1s\n",
      "[CV 5/5] END max_depth=5, max_features=9, min_samples_leaf=20, n_estimators=200;, score=0.562 total time=   2.0s\n",
      "[CV 1/5] END max_depth=5, max_features=11, min_samples_leaf=10, n_estimators=100;, score=0.559 total time=   1.2s\n",
      "[CV 2/5] END max_depth=5, max_features=11, min_samples_leaf=10, n_estimators=100;, score=0.576 total time=   1.2s\n",
      "[CV 3/5] END max_depth=5, max_features=11, min_samples_leaf=10, n_estimators=100;, score=0.559 total time=   1.2s\n",
      "[CV 4/5] END max_depth=5, max_features=11, min_samples_leaf=10, n_estimators=100;, score=0.562 total time=   1.2s\n",
      "[CV 5/5] END max_depth=5, max_features=11, min_samples_leaf=10, n_estimators=100;, score=0.570 total time=   1.2s\n",
      "[CV 1/5] END max_depth=5, max_features=11, min_samples_leaf=10, n_estimators=150;, score=0.559 total time=   1.8s\n",
      "[CV 2/5] END max_depth=5, max_features=11, min_samples_leaf=10, n_estimators=150;, score=0.576 total time=   1.8s\n",
      "[CV 3/5] END max_depth=5, max_features=11, min_samples_leaf=10, n_estimators=150;, score=0.559 total time=   1.8s\n",
      "[CV 4/5] END max_depth=5, max_features=11, min_samples_leaf=10, n_estimators=150;, score=0.557 total time=   1.8s\n",
      "[CV 5/5] END max_depth=5, max_features=11, min_samples_leaf=10, n_estimators=150;, score=0.567 total time=   1.8s\n",
      "[CV 1/5] END max_depth=5, max_features=11, min_samples_leaf=10, n_estimators=200;, score=0.568 total time=   2.5s\n",
      "[CV 2/5] END max_depth=5, max_features=11, min_samples_leaf=10, n_estimators=200;, score=0.574 total time=   2.5s\n",
      "[CV 3/5] END max_depth=5, max_features=11, min_samples_leaf=10, n_estimators=200;, score=0.564 total time=   2.5s\n",
      "[CV 4/5] END max_depth=5, max_features=11, min_samples_leaf=10, n_estimators=200;, score=0.558 total time=   2.4s\n",
      "[CV 5/5] END max_depth=5, max_features=11, min_samples_leaf=10, n_estimators=200;, score=0.573 total time=   2.5s\n",
      "[CV 1/5] END max_depth=5, max_features=11, min_samples_leaf=15, n_estimators=100;, score=0.556 total time=   1.2s\n",
      "[CV 2/5] END max_depth=5, max_features=11, min_samples_leaf=15, n_estimators=100;, score=0.582 total time=   1.2s\n",
      "[CV 3/5] END max_depth=5, max_features=11, min_samples_leaf=15, n_estimators=100;, score=0.563 total time=   1.2s\n",
      "[CV 4/5] END max_depth=5, max_features=11, min_samples_leaf=15, n_estimators=100;, score=0.562 total time=   1.2s\n",
      "[CV 5/5] END max_depth=5, max_features=11, min_samples_leaf=15, n_estimators=100;, score=0.560 total time=   1.2s\n",
      "[CV 1/5] END max_depth=5, max_features=11, min_samples_leaf=15, n_estimators=150;, score=0.558 total time=   1.8s\n",
      "[CV 2/5] END max_depth=5, max_features=11, min_samples_leaf=15, n_estimators=150;, score=0.573 total time=   1.8s\n",
      "[CV 3/5] END max_depth=5, max_features=11, min_samples_leaf=15, n_estimators=150;, score=0.568 total time=   1.8s\n",
      "[CV 4/5] END max_depth=5, max_features=11, min_samples_leaf=15, n_estimators=150;, score=0.557 total time=   1.8s\n",
      "[CV 5/5] END max_depth=5, max_features=11, min_samples_leaf=15, n_estimators=150;, score=0.567 total time=   1.8s\n",
      "[CV 1/5] END max_depth=5, max_features=11, min_samples_leaf=15, n_estimators=200;, score=0.556 total time=   2.4s\n",
      "[CV 2/5] END max_depth=5, max_features=11, min_samples_leaf=15, n_estimators=200;, score=0.578 total time=   2.4s\n",
      "[CV 3/5] END max_depth=5, max_features=11, min_samples_leaf=15, n_estimators=200;, score=0.564 total time=   2.4s\n",
      "[CV 4/5] END max_depth=5, max_features=11, min_samples_leaf=15, n_estimators=200;, score=0.565 total time=   2.4s\n",
      "[CV 5/5] END max_depth=5, max_features=11, min_samples_leaf=15, n_estimators=200;, score=0.566 total time=   2.4s\n",
      "[CV 1/5] END max_depth=5, max_features=11, min_samples_leaf=20, n_estimators=100;, score=0.553 total time=   1.1s\n",
      "[CV 2/5] END max_depth=5, max_features=11, min_samples_leaf=20, n_estimators=100;, score=0.577 total time=   1.2s\n",
      "[CV 3/5] END max_depth=5, max_features=11, min_samples_leaf=20, n_estimators=100;, score=0.568 total time=   1.2s\n",
      "[CV 4/5] END max_depth=5, max_features=11, min_samples_leaf=20, n_estimators=100;, score=0.551 total time=   1.2s\n",
      "[CV 5/5] END max_depth=5, max_features=11, min_samples_leaf=20, n_estimators=100;, score=0.565 total time=   1.2s\n",
      "[CV 1/5] END max_depth=5, max_features=11, min_samples_leaf=20, n_estimators=150;, score=0.564 total time=   1.8s\n",
      "[CV 2/5] END max_depth=5, max_features=11, min_samples_leaf=20, n_estimators=150;, score=0.579 total time=   1.8s\n",
      "[CV 3/5] END max_depth=5, max_features=11, min_samples_leaf=20, n_estimators=150;, score=0.569 total time=   1.8s\n",
      "[CV 4/5] END max_depth=5, max_features=11, min_samples_leaf=20, n_estimators=150;, score=0.564 total time=   1.8s\n",
      "[CV 5/5] END max_depth=5, max_features=11, min_samples_leaf=20, n_estimators=150;, score=0.564 total time=   1.8s\n",
      "[CV 1/5] END max_depth=5, max_features=11, min_samples_leaf=20, n_estimators=200;, score=0.562 total time=   2.4s\n",
      "[CV 2/5] END max_depth=5, max_features=11, min_samples_leaf=20, n_estimators=200;, score=0.579 total time=   2.4s\n",
      "[CV 3/5] END max_depth=5, max_features=11, min_samples_leaf=20, n_estimators=200;, score=0.564 total time=   2.4s\n",
      "[CV 4/5] END max_depth=5, max_features=11, min_samples_leaf=20, n_estimators=200;, score=0.560 total time=   2.4s\n",
      "[CV 5/5] END max_depth=5, max_features=11, min_samples_leaf=20, n_estimators=200;, score=0.567 total time=   2.4s\n",
      "[CV 1/5] END max_depth=10, max_features=7, min_samples_leaf=10, n_estimators=100;, score=0.576 total time=   1.3s\n",
      "[CV 2/5] END max_depth=10, max_features=7, min_samples_leaf=10, n_estimators=100;, score=0.608 total time=   1.3s\n",
      "[CV 3/5] END max_depth=10, max_features=7, min_samples_leaf=10, n_estimators=100;, score=0.591 total time=   1.3s\n",
      "[CV 4/5] END max_depth=10, max_features=7, min_samples_leaf=10, n_estimators=100;, score=0.591 total time=   1.3s\n",
      "[CV 5/5] END max_depth=10, max_features=7, min_samples_leaf=10, n_estimators=100;, score=0.597 total time=   1.3s\n",
      "[CV 1/5] END max_depth=10, max_features=7, min_samples_leaf=10, n_estimators=150;, score=0.576 total time=   2.0s\n",
      "[CV 2/5] END max_depth=10, max_features=7, min_samples_leaf=10, n_estimators=150;, score=0.592 total time=   2.0s\n",
      "[CV 3/5] END max_depth=10, max_features=7, min_samples_leaf=10, n_estimators=150;, score=0.587 total time=   2.0s\n",
      "[CV 4/5] END max_depth=10, max_features=7, min_samples_leaf=10, n_estimators=150;, score=0.574 total time=   2.0s\n",
      "[CV 5/5] END max_depth=10, max_features=7, min_samples_leaf=10, n_estimators=150;, score=0.607 total time=   2.0s\n",
      "[CV 1/5] END max_depth=10, max_features=7, min_samples_leaf=10, n_estimators=200;, score=0.583 total time=   2.7s\n"
     ]
    },
    {
     "name": "stdout",
     "output_type": "stream",
     "text": [
      "[CV 2/5] END max_depth=10, max_features=7, min_samples_leaf=10, n_estimators=200;, score=0.590 total time=   2.7s\n",
      "[CV 3/5] END max_depth=10, max_features=7, min_samples_leaf=10, n_estimators=200;, score=0.585 total time=   2.7s\n",
      "[CV 4/5] END max_depth=10, max_features=7, min_samples_leaf=10, n_estimators=200;, score=0.587 total time=   2.7s\n",
      "[CV 5/5] END max_depth=10, max_features=7, min_samples_leaf=10, n_estimators=200;, score=0.596 total time=   2.6s\n",
      "[CV 1/5] END max_depth=10, max_features=7, min_samples_leaf=15, n_estimators=100;, score=0.568 total time=   1.2s\n",
      "[CV 2/5] END max_depth=10, max_features=7, min_samples_leaf=15, n_estimators=100;, score=0.590 total time=   1.2s\n",
      "[CV 3/5] END max_depth=10, max_features=7, min_samples_leaf=15, n_estimators=100;, score=0.594 total time=   1.2s\n",
      "[CV 4/5] END max_depth=10, max_features=7, min_samples_leaf=15, n_estimators=100;, score=0.570 total time=   1.2s\n",
      "[CV 5/5] END max_depth=10, max_features=7, min_samples_leaf=15, n_estimators=100;, score=0.591 total time=   1.2s\n",
      "[CV 1/5] END max_depth=10, max_features=7, min_samples_leaf=15, n_estimators=150;, score=0.564 total time=   1.8s\n",
      "[CV 2/5] END max_depth=10, max_features=7, min_samples_leaf=15, n_estimators=150;, score=0.595 total time=   1.8s\n",
      "[CV 3/5] END max_depth=10, max_features=7, min_samples_leaf=15, n_estimators=150;, score=0.581 total time=   1.8s\n",
      "[CV 4/5] END max_depth=10, max_features=7, min_samples_leaf=15, n_estimators=150;, score=0.578 total time=   1.8s\n",
      "[CV 5/5] END max_depth=10, max_features=7, min_samples_leaf=15, n_estimators=150;, score=0.588 total time=   1.8s\n",
      "[CV 1/5] END max_depth=10, max_features=7, min_samples_leaf=15, n_estimators=200;, score=0.572 total time=   2.5s\n",
      "[CV 2/5] END max_depth=10, max_features=7, min_samples_leaf=15, n_estimators=200;, score=0.596 total time=   2.4s\n",
      "[CV 3/5] END max_depth=10, max_features=7, min_samples_leaf=15, n_estimators=200;, score=0.573 total time=   2.5s\n",
      "[CV 4/5] END max_depth=10, max_features=7, min_samples_leaf=15, n_estimators=200;, score=0.574 total time=   2.5s\n",
      "[CV 5/5] END max_depth=10, max_features=7, min_samples_leaf=15, n_estimators=200;, score=0.585 total time=   2.4s\n",
      "[CV 1/5] END max_depth=10, max_features=7, min_samples_leaf=20, n_estimators=100;, score=0.564 total time=   1.1s\n",
      "[CV 2/5] END max_depth=10, max_features=7, min_samples_leaf=20, n_estimators=100;, score=0.591 total time=   1.1s\n",
      "[CV 3/5] END max_depth=10, max_features=7, min_samples_leaf=20, n_estimators=100;, score=0.574 total time=   1.1s\n",
      "[CV 4/5] END max_depth=10, max_features=7, min_samples_leaf=20, n_estimators=100;, score=0.571 total time=   1.1s\n",
      "[CV 5/5] END max_depth=10, max_features=7, min_samples_leaf=20, n_estimators=100;, score=0.584 total time=   1.1s\n",
      "[CV 1/5] END max_depth=10, max_features=7, min_samples_leaf=20, n_estimators=150;, score=0.556 total time=   1.7s\n",
      "[CV 2/5] END max_depth=10, max_features=7, min_samples_leaf=20, n_estimators=150;, score=0.590 total time=   1.7s\n",
      "[CV 3/5] END max_depth=10, max_features=7, min_samples_leaf=20, n_estimators=150;, score=0.581 total time=   1.7s\n",
      "[CV 4/5] END max_depth=10, max_features=7, min_samples_leaf=20, n_estimators=150;, score=0.567 total time=   1.7s\n",
      "[CV 5/5] END max_depth=10, max_features=7, min_samples_leaf=20, n_estimators=150;, score=0.583 total time=   1.7s\n",
      "[CV 1/5] END max_depth=10, max_features=7, min_samples_leaf=20, n_estimators=200;, score=0.555 total time=   2.3s\n",
      "[CV 2/5] END max_depth=10, max_features=7, min_samples_leaf=20, n_estimators=200;, score=0.591 total time=   2.3s\n",
      "[CV 3/5] END max_depth=10, max_features=7, min_samples_leaf=20, n_estimators=200;, score=0.562 total time=   2.3s\n",
      "[CV 4/5] END max_depth=10, max_features=7, min_samples_leaf=20, n_estimators=200;, score=0.565 total time=   2.3s\n",
      "[CV 5/5] END max_depth=10, max_features=7, min_samples_leaf=20, n_estimators=200;, score=0.582 total time=   2.3s\n",
      "[CV 1/5] END max_depth=10, max_features=9, min_samples_leaf=10, n_estimators=100;, score=0.577 total time=   1.6s\n",
      "[CV 2/5] END max_depth=10, max_features=9, min_samples_leaf=10, n_estimators=100;, score=0.594 total time=   1.6s\n",
      "[CV 3/5] END max_depth=10, max_features=9, min_samples_leaf=10, n_estimators=100;, score=0.578 total time=   1.6s\n",
      "[CV 4/5] END max_depth=10, max_features=9, min_samples_leaf=10, n_estimators=100;, score=0.576 total time=   1.6s\n",
      "[CV 5/5] END max_depth=10, max_features=9, min_samples_leaf=10, n_estimators=100;, score=0.605 total time=   1.6s\n",
      "[CV 1/5] END max_depth=10, max_features=9, min_samples_leaf=10, n_estimators=150;, score=0.578 total time=   2.4s\n",
      "[CV 2/5] END max_depth=10, max_features=9, min_samples_leaf=10, n_estimators=150;, score=0.597 total time=   2.4s\n",
      "[CV 3/5] END max_depth=10, max_features=9, min_samples_leaf=10, n_estimators=150;, score=0.577 total time=   2.4s\n",
      "[CV 4/5] END max_depth=10, max_features=9, min_samples_leaf=10, n_estimators=150;, score=0.575 total time=   2.4s\n",
      "[CV 5/5] END max_depth=10, max_features=9, min_samples_leaf=10, n_estimators=150;, score=0.598 total time=   2.4s\n",
      "[CV 1/5] END max_depth=10, max_features=9, min_samples_leaf=10, n_estimators=200;, score=0.581 total time=   3.2s\n",
      "[CV 2/5] END max_depth=10, max_features=9, min_samples_leaf=10, n_estimators=200;, score=0.595 total time=   3.2s\n",
      "[CV 3/5] END max_depth=10, max_features=9, min_samples_leaf=10, n_estimators=200;, score=0.581 total time=   3.2s\n",
      "[CV 4/5] END max_depth=10, max_features=9, min_samples_leaf=10, n_estimators=200;, score=0.576 total time=   3.3s\n",
      "[CV 5/5] END max_depth=10, max_features=9, min_samples_leaf=10, n_estimators=200;, score=0.598 total time=   3.2s\n",
      "[CV 1/5] END max_depth=10, max_features=9, min_samples_leaf=15, n_estimators=100;, score=0.568 total time=   1.4s\n",
      "[CV 2/5] END max_depth=10, max_features=9, min_samples_leaf=15, n_estimators=100;, score=0.596 total time=   1.4s\n",
      "[CV 3/5] END max_depth=10, max_features=9, min_samples_leaf=15, n_estimators=100;, score=0.576 total time=   1.4s\n",
      "[CV 4/5] END max_depth=10, max_features=9, min_samples_leaf=15, n_estimators=100;, score=0.576 total time=   1.4s\n",
      "[CV 5/5] END max_depth=10, max_features=9, min_samples_leaf=15, n_estimators=100;, score=0.591 total time=   1.5s\n",
      "[CV 1/5] END max_depth=10, max_features=9, min_samples_leaf=15, n_estimators=150;, score=0.567 total time=   2.2s\n",
      "[CV 2/5] END max_depth=10, max_features=9, min_samples_leaf=15, n_estimators=150;, score=0.595 total time=   2.2s\n",
      "[CV 3/5] END max_depth=10, max_features=9, min_samples_leaf=15, n_estimators=150;, score=0.572 total time=   2.2s\n",
      "[CV 4/5] END max_depth=10, max_features=9, min_samples_leaf=15, n_estimators=150;, score=0.579 total time=   2.2s\n",
      "[CV 5/5] END max_depth=10, max_features=9, min_samples_leaf=15, n_estimators=150;, score=0.593 total time=   2.2s\n",
      "[CV 1/5] END max_depth=10, max_features=9, min_samples_leaf=15, n_estimators=200;, score=0.567 total time=   3.0s\n",
      "[CV 2/5] END max_depth=10, max_features=9, min_samples_leaf=15, n_estimators=200;, score=0.587 total time=   3.0s\n",
      "[CV 3/5] END max_depth=10, max_features=9, min_samples_leaf=15, n_estimators=200;, score=0.586 total time=   3.0s\n",
      "[CV 4/5] END max_depth=10, max_features=9, min_samples_leaf=15, n_estimators=200;, score=0.575 total time=   3.0s\n",
      "[CV 5/5] END max_depth=10, max_features=9, min_samples_leaf=15, n_estimators=200;, score=0.593 total time=   3.0s\n",
      "[CV 1/5] END max_depth=10, max_features=9, min_samples_leaf=20, n_estimators=100;, score=0.562 total time=   1.4s\n",
      "[CV 2/5] END max_depth=10, max_features=9, min_samples_leaf=20, n_estimators=100;, score=0.587 total time=   1.4s\n",
      "[CV 3/5] END max_depth=10, max_features=9, min_samples_leaf=20, n_estimators=100;, score=0.573 total time=   1.4s\n",
      "[CV 4/5] END max_depth=10, max_features=9, min_samples_leaf=20, n_estimators=100;, score=0.571 total time=   1.4s\n",
      "[CV 5/5] END max_depth=10, max_features=9, min_samples_leaf=20, n_estimators=100;, score=0.578 total time=   1.3s\n",
      "[CV 1/5] END max_depth=10, max_features=9, min_samples_leaf=20, n_estimators=150;, score=0.556 total time=   2.1s\n",
      "[CV 2/5] END max_depth=10, max_features=9, min_samples_leaf=20, n_estimators=150;, score=0.590 total time=   2.1s\n",
      "[CV 3/5] END max_depth=10, max_features=9, min_samples_leaf=20, n_estimators=150;, score=0.573 total time=   2.0s\n"
     ]
    },
    {
     "name": "stdout",
     "output_type": "stream",
     "text": [
      "[CV 4/5] END max_depth=10, max_features=9, min_samples_leaf=20, n_estimators=150;, score=0.583 total time=   2.1s\n",
      "[CV 5/5] END max_depth=10, max_features=9, min_samples_leaf=20, n_estimators=150;, score=0.580 total time=   2.1s\n",
      "[CV 1/5] END max_depth=10, max_features=9, min_samples_leaf=20, n_estimators=200;, score=0.567 total time=   2.8s\n",
      "[CV 2/5] END max_depth=10, max_features=9, min_samples_leaf=20, n_estimators=200;, score=0.586 total time=   2.8s\n",
      "[CV 3/5] END max_depth=10, max_features=9, min_samples_leaf=20, n_estimators=200;, score=0.578 total time=   2.8s\n",
      "[CV 4/5] END max_depth=10, max_features=9, min_samples_leaf=20, n_estimators=200;, score=0.575 total time=   2.8s\n",
      "[CV 5/5] END max_depth=10, max_features=9, min_samples_leaf=20, n_estimators=200;, score=0.580 total time=   2.8s\n",
      "[CV 1/5] END max_depth=10, max_features=11, min_samples_leaf=10, n_estimators=100;, score=0.576 total time=   1.9s\n",
      "[CV 2/5] END max_depth=10, max_features=11, min_samples_leaf=10, n_estimators=100;, score=0.596 total time=   1.9s\n",
      "[CV 3/5] END max_depth=10, max_features=11, min_samples_leaf=10, n_estimators=100;, score=0.579 total time=   1.8s\n",
      "[CV 4/5] END max_depth=10, max_features=11, min_samples_leaf=10, n_estimators=100;, score=0.571 total time=   1.9s\n",
      "[CV 5/5] END max_depth=10, max_features=11, min_samples_leaf=10, n_estimators=100;, score=0.612 total time=   1.9s\n",
      "[CV 1/5] END max_depth=10, max_features=11, min_samples_leaf=10, n_estimators=150;, score=0.579 total time=   2.9s\n",
      "[CV 2/5] END max_depth=10, max_features=11, min_samples_leaf=10, n_estimators=150;, score=0.591 total time=   2.8s\n",
      "[CV 3/5] END max_depth=10, max_features=11, min_samples_leaf=10, n_estimators=150;, score=0.582 total time=   2.9s\n",
      "[CV 4/5] END max_depth=10, max_features=11, min_samples_leaf=10, n_estimators=150;, score=0.576 total time=   2.8s\n",
      "[CV 5/5] END max_depth=10, max_features=11, min_samples_leaf=10, n_estimators=150;, score=0.601 total time=   2.9s\n",
      "[CV 1/5] END max_depth=10, max_features=11, min_samples_leaf=10, n_estimators=200;, score=0.574 total time=   3.8s\n",
      "[CV 2/5] END max_depth=10, max_features=11, min_samples_leaf=10, n_estimators=200;, score=0.592 total time=   3.8s\n",
      "[CV 3/5] END max_depth=10, max_features=11, min_samples_leaf=10, n_estimators=200;, score=0.576 total time=   3.8s\n",
      "[CV 4/5] END max_depth=10, max_features=11, min_samples_leaf=10, n_estimators=200;, score=0.578 total time=   3.8s\n",
      "[CV 5/5] END max_depth=10, max_features=11, min_samples_leaf=10, n_estimators=200;, score=0.610 total time=   3.8s\n",
      "[CV 1/5] END max_depth=10, max_features=11, min_samples_leaf=15, n_estimators=100;, score=0.565 total time=   1.7s\n",
      "[CV 2/5] END max_depth=10, max_features=11, min_samples_leaf=15, n_estimators=100;, score=0.597 total time=   1.7s\n",
      "[CV 3/5] END max_depth=10, max_features=11, min_samples_leaf=15, n_estimators=100;, score=0.581 total time=   1.7s\n",
      "[CV 4/5] END max_depth=10, max_features=11, min_samples_leaf=15, n_estimators=100;, score=0.573 total time=   1.7s\n",
      "[CV 5/5] END max_depth=10, max_features=11, min_samples_leaf=15, n_estimators=100;, score=0.593 total time=   1.7s\n",
      "[CV 1/5] END max_depth=10, max_features=11, min_samples_leaf=15, n_estimators=150;, score=0.574 total time=   2.6s\n",
      "[CV 2/5] END max_depth=10, max_features=11, min_samples_leaf=15, n_estimators=150;, score=0.592 total time=   2.6s\n",
      "[CV 3/5] END max_depth=10, max_features=11, min_samples_leaf=15, n_estimators=150;, score=0.574 total time=   2.6s\n",
      "[CV 4/5] END max_depth=10, max_features=11, min_samples_leaf=15, n_estimators=150;, score=0.573 total time=   2.6s\n",
      "[CV 5/5] END max_depth=10, max_features=11, min_samples_leaf=15, n_estimators=150;, score=0.593 total time=   2.6s\n",
      "[CV 1/5] END max_depth=10, max_features=11, min_samples_leaf=15, n_estimators=200;, score=0.574 total time=   3.6s\n",
      "[CV 2/5] END max_depth=10, max_features=11, min_samples_leaf=15, n_estimators=200;, score=0.594 total time=   3.5s\n",
      "[CV 3/5] END max_depth=10, max_features=11, min_samples_leaf=15, n_estimators=200;, score=0.569 total time=   3.5s\n",
      "[CV 4/5] END max_depth=10, max_features=11, min_samples_leaf=15, n_estimators=200;, score=0.576 total time=   3.5s\n",
      "[CV 5/5] END max_depth=10, max_features=11, min_samples_leaf=15, n_estimators=200;, score=0.593 total time=   3.5s\n",
      "[CV 1/5] END max_depth=10, max_features=11, min_samples_leaf=20, n_estimators=100;, score=0.558 total time=   1.6s\n",
      "[CV 2/5] END max_depth=10, max_features=11, min_samples_leaf=20, n_estimators=100;, score=0.585 total time=   1.6s\n",
      "[CV 3/5] END max_depth=10, max_features=11, min_samples_leaf=20, n_estimators=100;, score=0.579 total time=   1.6s\n",
      "[CV 4/5] END max_depth=10, max_features=11, min_samples_leaf=20, n_estimators=100;, score=0.560 total time=   1.6s\n",
      "[CV 5/5] END max_depth=10, max_features=11, min_samples_leaf=20, n_estimators=100;, score=0.578 total time=   1.6s\n",
      "[CV 1/5] END max_depth=10, max_features=11, min_samples_leaf=20, n_estimators=150;, score=0.555 total time=   2.4s\n",
      "[CV 2/5] END max_depth=10, max_features=11, min_samples_leaf=20, n_estimators=150;, score=0.587 total time=   2.5s\n",
      "[CV 3/5] END max_depth=10, max_features=11, min_samples_leaf=20, n_estimators=150;, score=0.577 total time=   2.4s\n",
      "[CV 4/5] END max_depth=10, max_features=11, min_samples_leaf=20, n_estimators=150;, score=0.573 total time=   2.4s\n",
      "[CV 5/5] END max_depth=10, max_features=11, min_samples_leaf=20, n_estimators=150;, score=0.585 total time=   2.4s\n",
      "[CV 1/5] END max_depth=10, max_features=11, min_samples_leaf=20, n_estimators=200;, score=0.555 total time=   3.3s\n",
      "[CV 2/5] END max_depth=10, max_features=11, min_samples_leaf=20, n_estimators=200;, score=0.587 total time=   3.3s\n",
      "[CV 3/5] END max_depth=10, max_features=11, min_samples_leaf=20, n_estimators=200;, score=0.579 total time=   3.3s\n",
      "[CV 4/5] END max_depth=10, max_features=11, min_samples_leaf=20, n_estimators=200;, score=0.573 total time=   3.3s\n",
      "[CV 5/5] END max_depth=10, max_features=11, min_samples_leaf=20, n_estimators=200;, score=0.579 total time=   3.3s\n",
      "[CV 1/5] END max_depth=15, max_features=7, min_samples_leaf=10, n_estimators=100;, score=0.582 total time=   1.3s\n",
      "[CV 2/5] END max_depth=15, max_features=7, min_samples_leaf=10, n_estimators=100;, score=0.603 total time=   1.3s\n",
      "[CV 3/5] END max_depth=15, max_features=7, min_samples_leaf=10, n_estimators=100;, score=0.591 total time=   1.3s\n",
      "[CV 4/5] END max_depth=15, max_features=7, min_samples_leaf=10, n_estimators=100;, score=0.589 total time=   1.4s\n",
      "[CV 5/5] END max_depth=15, max_features=7, min_samples_leaf=10, n_estimators=100;, score=0.608 total time=   1.3s\n",
      "[CV 1/5] END max_depth=15, max_features=7, min_samples_leaf=10, n_estimators=150;, score=0.582 total time=   2.1s\n",
      "[CV 2/5] END max_depth=15, max_features=7, min_samples_leaf=10, n_estimators=150;, score=0.606 total time=   2.1s\n",
      "[CV 3/5] END max_depth=15, max_features=7, min_samples_leaf=10, n_estimators=150;, score=0.578 total time=   2.1s\n",
      "[CV 4/5] END max_depth=15, max_features=7, min_samples_leaf=10, n_estimators=150;, score=0.587 total time=   2.1s\n",
      "[CV 5/5] END max_depth=15, max_features=7, min_samples_leaf=10, n_estimators=150;, score=0.610 total time=   2.1s\n",
      "[CV 1/5] END max_depth=15, max_features=7, min_samples_leaf=10, n_estimators=200;, score=0.581 total time=   2.8s\n",
      "[CV 2/5] END max_depth=15, max_features=7, min_samples_leaf=10, n_estimators=200;, score=0.603 total time=   2.8s\n",
      "[CV 3/5] END max_depth=15, max_features=7, min_samples_leaf=10, n_estimators=200;, score=0.596 total time=   2.8s\n",
      "[CV 4/5] END max_depth=15, max_features=7, min_samples_leaf=10, n_estimators=200;, score=0.591 total time=   2.8s\n",
      "[CV 5/5] END max_depth=15, max_features=7, min_samples_leaf=10, n_estimators=200;, score=0.607 total time=   2.8s\n",
      "[CV 1/5] END max_depth=15, max_features=7, min_samples_leaf=15, n_estimators=100;, score=0.572 total time=   1.2s\n",
      "[CV 2/5] END max_depth=15, max_features=7, min_samples_leaf=15, n_estimators=100;, score=0.594 total time=   1.2s\n",
      "[CV 3/5] END max_depth=15, max_features=7, min_samples_leaf=15, n_estimators=100;, score=0.586 total time=   1.2s\n",
      "[CV 4/5] END max_depth=15, max_features=7, min_samples_leaf=15, n_estimators=100;, score=0.578 total time=   1.2s\n",
      "[CV 5/5] END max_depth=15, max_features=7, min_samples_leaf=15, n_estimators=100;, score=0.585 total time=   1.2s\n"
     ]
    },
    {
     "name": "stdout",
     "output_type": "stream",
     "text": [
      "[CV 1/5] END max_depth=15, max_features=7, min_samples_leaf=15, n_estimators=150;, score=0.564 total time=   1.9s\n",
      "[CV 2/5] END max_depth=15, max_features=7, min_samples_leaf=15, n_estimators=150;, score=0.587 total time=   1.9s\n",
      "[CV 3/5] END max_depth=15, max_features=7, min_samples_leaf=15, n_estimators=150;, score=0.578 total time=   1.9s\n",
      "[CV 4/5] END max_depth=15, max_features=7, min_samples_leaf=15, n_estimators=150;, score=0.579 total time=   1.9s\n",
      "[CV 5/5] END max_depth=15, max_features=7, min_samples_leaf=15, n_estimators=150;, score=0.593 total time=   1.8s\n",
      "[CV 1/5] END max_depth=15, max_features=7, min_samples_leaf=15, n_estimators=200;, score=0.564 total time=   2.5s\n",
      "[CV 2/5] END max_depth=15, max_features=7, min_samples_leaf=15, n_estimators=200;, score=0.590 total time=   2.5s\n",
      "[CV 3/5] END max_depth=15, max_features=7, min_samples_leaf=15, n_estimators=200;, score=0.583 total time=   2.5s\n",
      "[CV 4/5] END max_depth=15, max_features=7, min_samples_leaf=15, n_estimators=200;, score=0.580 total time=   2.5s\n",
      "[CV 5/5] END max_depth=15, max_features=7, min_samples_leaf=15, n_estimators=200;, score=0.592 total time=   2.5s\n",
      "[CV 1/5] END max_depth=15, max_features=7, min_samples_leaf=20, n_estimators=100;, score=0.567 total time=   1.1s\n",
      "[CV 2/5] END max_depth=15, max_features=7, min_samples_leaf=20, n_estimators=100;, score=0.577 total time=   1.1s\n",
      "[CV 3/5] END max_depth=15, max_features=7, min_samples_leaf=20, n_estimators=100;, score=0.569 total time=   1.1s\n",
      "[CV 4/5] END max_depth=15, max_features=7, min_samples_leaf=20, n_estimators=100;, score=0.561 total time=   1.1s\n",
      "[CV 5/5] END max_depth=15, max_features=7, min_samples_leaf=20, n_estimators=100;, score=0.583 total time=   1.1s\n",
      "[CV 1/5] END max_depth=15, max_features=7, min_samples_leaf=20, n_estimators=150;, score=0.564 total time=   1.7s\n",
      "[CV 2/5] END max_depth=15, max_features=7, min_samples_leaf=20, n_estimators=150;, score=0.581 total time=   1.7s\n",
      "[CV 3/5] END max_depth=15, max_features=7, min_samples_leaf=20, n_estimators=150;, score=0.577 total time=   1.7s\n",
      "[CV 4/5] END max_depth=15, max_features=7, min_samples_leaf=20, n_estimators=150;, score=0.573 total time=   1.7s\n",
      "[CV 5/5] END max_depth=15, max_features=7, min_samples_leaf=20, n_estimators=150;, score=0.591 total time=   1.7s\n",
      "[CV 1/5] END max_depth=15, max_features=7, min_samples_leaf=20, n_estimators=200;, score=0.555 total time=   2.3s\n",
      "[CV 2/5] END max_depth=15, max_features=7, min_samples_leaf=20, n_estimators=200;, score=0.582 total time=   2.4s\n",
      "[CV 3/5] END max_depth=15, max_features=7, min_samples_leaf=20, n_estimators=200;, score=0.576 total time=   2.4s\n",
      "[CV 4/5] END max_depth=15, max_features=7, min_samples_leaf=20, n_estimators=200;, score=0.567 total time=   2.4s\n",
      "[CV 5/5] END max_depth=15, max_features=7, min_samples_leaf=20, n_estimators=200;, score=0.584 total time=   2.3s\n",
      "[CV 1/5] END max_depth=15, max_features=9, min_samples_leaf=10, n_estimators=100;, score=0.585 total time=   1.6s\n",
      "[CV 2/5] END max_depth=15, max_features=9, min_samples_leaf=10, n_estimators=100;, score=0.605 total time=   1.7s\n",
      "[CV 3/5] END max_depth=15, max_features=9, min_samples_leaf=10, n_estimators=100;, score=0.578 total time=   1.7s\n",
      "[CV 4/5] END max_depth=15, max_features=9, min_samples_leaf=10, n_estimators=100;, score=0.589 total time=   1.6s\n",
      "[CV 5/5] END max_depth=15, max_features=9, min_samples_leaf=10, n_estimators=100;, score=0.611 total time=   1.7s\n",
      "[CV 1/5] END max_depth=15, max_features=9, min_samples_leaf=10, n_estimators=150;, score=0.581 total time=   2.7s\n",
      "[CV 2/5] END max_depth=15, max_features=9, min_samples_leaf=10, n_estimators=150;, score=0.604 total time=   2.6s\n",
      "[CV 3/5] END max_depth=15, max_features=9, min_samples_leaf=10, n_estimators=150;, score=0.576 total time=   2.5s\n",
      "[CV 4/5] END max_depth=15, max_features=9, min_samples_leaf=10, n_estimators=150;, score=0.594 total time=   2.6s\n",
      "[CV 5/5] END max_depth=15, max_features=9, min_samples_leaf=10, n_estimators=150;, score=0.608 total time=   2.5s\n",
      "[CV 1/5] END max_depth=15, max_features=9, min_samples_leaf=10, n_estimators=200;, score=0.579 total time=   3.4s\n",
      "[CV 2/5] END max_depth=15, max_features=9, min_samples_leaf=10, n_estimators=200;, score=0.599 total time=   3.5s\n",
      "[CV 3/5] END max_depth=15, max_features=9, min_samples_leaf=10, n_estimators=200;, score=0.579 total time=   3.5s\n",
      "[CV 4/5] END max_depth=15, max_features=9, min_samples_leaf=10, n_estimators=200;, score=0.588 total time=   3.4s\n",
      "[CV 5/5] END max_depth=15, max_features=9, min_samples_leaf=10, n_estimators=200;, score=0.606 total time=   3.4s\n",
      "[CV 1/5] END max_depth=15, max_features=9, min_samples_leaf=15, n_estimators=100;, score=0.569 total time=   1.5s\n",
      "[CV 2/5] END max_depth=15, max_features=9, min_samples_leaf=15, n_estimators=100;, score=0.595 total time=   1.5s\n",
      "[CV 3/5] END max_depth=15, max_features=9, min_samples_leaf=15, n_estimators=100;, score=0.596 total time=   1.5s\n",
      "[CV 4/5] END max_depth=15, max_features=9, min_samples_leaf=15, n_estimators=100;, score=0.578 total time=   1.5s\n",
      "[CV 5/5] END max_depth=15, max_features=9, min_samples_leaf=15, n_estimators=100;, score=0.583 total time=   1.5s\n",
      "[CV 1/5] END max_depth=15, max_features=9, min_samples_leaf=15, n_estimators=150;, score=0.565 total time=   2.3s\n",
      "[CV 2/5] END max_depth=15, max_features=9, min_samples_leaf=15, n_estimators=150;, score=0.591 total time=   2.3s\n",
      "[CV 3/5] END max_depth=15, max_features=9, min_samples_leaf=15, n_estimators=150;, score=0.573 total time=   2.3s\n",
      "[CV 4/5] END max_depth=15, max_features=9, min_samples_leaf=15, n_estimators=150;, score=0.571 total time=   2.3s\n",
      "[CV 5/5] END max_depth=15, max_features=9, min_samples_leaf=15, n_estimators=150;, score=0.592 total time=   2.3s\n",
      "[CV 1/5] END max_depth=15, max_features=9, min_samples_leaf=15, n_estimators=200;, score=0.563 total time=   3.1s\n",
      "[CV 2/5] END max_depth=15, max_features=9, min_samples_leaf=15, n_estimators=200;, score=0.592 total time=   3.1s\n",
      "[CV 3/5] END max_depth=15, max_features=9, min_samples_leaf=15, n_estimators=200;, score=0.579 total time=   3.0s\n",
      "[CV 4/5] END max_depth=15, max_features=9, min_samples_leaf=15, n_estimators=200;, score=0.569 total time=   3.1s\n",
      "[CV 5/5] END max_depth=15, max_features=9, min_samples_leaf=15, n_estimators=200;, score=0.599 total time=   3.1s\n",
      "[CV 1/5] END max_depth=15, max_features=9, min_samples_leaf=20, n_estimators=100;, score=0.555 total time=   1.4s\n",
      "[CV 2/5] END max_depth=15, max_features=9, min_samples_leaf=20, n_estimators=100;, score=0.586 total time=   1.4s\n",
      "[CV 3/5] END max_depth=15, max_features=9, min_samples_leaf=20, n_estimators=100;, score=0.578 total time=   1.4s\n",
      "[CV 4/5] END max_depth=15, max_features=9, min_samples_leaf=20, n_estimators=100;, score=0.570 total time=   1.4s\n",
      "[CV 5/5] END max_depth=15, max_features=9, min_samples_leaf=20, n_estimators=100;, score=0.580 total time=   1.4s\n",
      "[CV 1/5] END max_depth=15, max_features=9, min_samples_leaf=20, n_estimators=150;, score=0.556 total time=   2.1s\n",
      "[CV 2/5] END max_depth=15, max_features=9, min_samples_leaf=20, n_estimators=150;, score=0.583 total time=   2.1s\n",
      "[CV 3/5] END max_depth=15, max_features=9, min_samples_leaf=20, n_estimators=150;, score=0.579 total time=   2.1s\n",
      "[CV 4/5] END max_depth=15, max_features=9, min_samples_leaf=20, n_estimators=150;, score=0.567 total time=   2.1s\n",
      "[CV 5/5] END max_depth=15, max_features=9, min_samples_leaf=20, n_estimators=150;, score=0.583 total time=   2.1s\n",
      "[CV 1/5] END max_depth=15, max_features=9, min_samples_leaf=20, n_estimators=200;, score=0.554 total time=   2.8s\n",
      "[CV 2/5] END max_depth=15, max_features=9, min_samples_leaf=20, n_estimators=200;, score=0.581 total time=   2.9s\n",
      "[CV 3/5] END max_depth=15, max_features=9, min_samples_leaf=20, n_estimators=200;, score=0.574 total time=   2.8s\n",
      "[CV 4/5] END max_depth=15, max_features=9, min_samples_leaf=20, n_estimators=200;, score=0.567 total time=   2.8s\n",
      "[CV 5/5] END max_depth=15, max_features=9, min_samples_leaf=20, n_estimators=200;, score=0.576 total time=   2.8s\n",
      "[CV 1/5] END max_depth=15, max_features=11, min_samples_leaf=10, n_estimators=100;, score=0.587 total time=   2.0s\n",
      "[CV 2/5] END max_depth=15, max_features=11, min_samples_leaf=10, n_estimators=100;, score=0.606 total time=   2.0s\n"
     ]
    },
    {
     "name": "stdout",
     "output_type": "stream",
     "text": [
      "[CV 3/5] END max_depth=15, max_features=11, min_samples_leaf=10, n_estimators=100;, score=0.577 total time=   2.0s\n",
      "[CV 4/5] END max_depth=15, max_features=11, min_samples_leaf=10, n_estimators=100;, score=0.587 total time=   2.0s\n",
      "[CV 5/5] END max_depth=15, max_features=11, min_samples_leaf=10, n_estimators=100;, score=0.611 total time=   2.0s\n",
      "[CV 1/5] END max_depth=15, max_features=11, min_samples_leaf=10, n_estimators=150;, score=0.582 total time=   3.0s\n",
      "[CV 2/5] END max_depth=15, max_features=11, min_samples_leaf=10, n_estimators=150;, score=0.595 total time=   3.0s\n",
      "[CV 3/5] END max_depth=15, max_features=11, min_samples_leaf=10, n_estimators=150;, score=0.582 total time=   3.0s\n",
      "[CV 4/5] END max_depth=15, max_features=11, min_samples_leaf=10, n_estimators=150;, score=0.583 total time=   3.0s\n",
      "[CV 5/5] END max_depth=15, max_features=11, min_samples_leaf=10, n_estimators=150;, score=0.602 total time=   2.9s\n",
      "[CV 1/5] END max_depth=15, max_features=11, min_samples_leaf=10, n_estimators=200;, score=0.581 total time=   4.0s\n",
      "[CV 2/5] END max_depth=15, max_features=11, min_samples_leaf=10, n_estimators=200;, score=0.603 total time=   4.0s\n",
      "[CV 3/5] END max_depth=15, max_features=11, min_samples_leaf=10, n_estimators=200;, score=0.583 total time=   4.0s\n",
      "[CV 4/5] END max_depth=15, max_features=11, min_samples_leaf=10, n_estimators=200;, score=0.585 total time=   4.0s\n",
      "[CV 5/5] END max_depth=15, max_features=11, min_samples_leaf=10, n_estimators=200;, score=0.614 total time=   4.0s\n",
      "[CV 1/5] END max_depth=15, max_features=11, min_samples_leaf=15, n_estimators=100;, score=0.553 total time=   1.8s\n",
      "[CV 2/5] END max_depth=15, max_features=11, min_samples_leaf=15, n_estimators=100;, score=0.590 total time=   1.8s\n",
      "[CV 3/5] END max_depth=15, max_features=11, min_samples_leaf=15, n_estimators=100;, score=0.582 total time=   1.8s\n",
      "[CV 4/5] END max_depth=15, max_features=11, min_samples_leaf=15, n_estimators=100;, score=0.567 total time=   1.8s\n",
      "[CV 5/5] END max_depth=15, max_features=11, min_samples_leaf=15, n_estimators=100;, score=0.593 total time=   1.7s\n",
      "[CV 1/5] END max_depth=15, max_features=11, min_samples_leaf=15, n_estimators=150;, score=0.571 total time=   2.7s\n",
      "[CV 2/5] END max_depth=15, max_features=11, min_samples_leaf=15, n_estimators=150;, score=0.591 total time=   2.7s\n",
      "[CV 3/5] END max_depth=15, max_features=11, min_samples_leaf=15, n_estimators=150;, score=0.568 total time=   2.7s\n",
      "[CV 4/5] END max_depth=15, max_features=11, min_samples_leaf=15, n_estimators=150;, score=0.585 total time=   2.7s\n",
      "[CV 5/5] END max_depth=15, max_features=11, min_samples_leaf=15, n_estimators=150;, score=0.596 total time=   2.7s\n",
      "[CV 1/5] END max_depth=15, max_features=11, min_samples_leaf=15, n_estimators=200;, score=0.579 total time=   3.6s\n",
      "[CV 2/5] END max_depth=15, max_features=11, min_samples_leaf=15, n_estimators=200;, score=0.599 total time=   3.6s\n",
      "[CV 3/5] END max_depth=15, max_features=11, min_samples_leaf=15, n_estimators=200;, score=0.581 total time=   3.6s\n",
      "[CV 4/5] END max_depth=15, max_features=11, min_samples_leaf=15, n_estimators=200;, score=0.575 total time=   3.6s\n",
      "[CV 5/5] END max_depth=15, max_features=11, min_samples_leaf=15, n_estimators=200;, score=0.592 total time=   3.6s\n",
      "[CV 1/5] END max_depth=15, max_features=11, min_samples_leaf=20, n_estimators=100;, score=0.562 total time=   1.6s\n",
      "[CV 2/5] END max_depth=15, max_features=11, min_samples_leaf=20, n_estimators=100;, score=0.594 total time=   1.6s\n",
      "[CV 3/5] END max_depth=15, max_features=11, min_samples_leaf=20, n_estimators=100;, score=0.576 total time=   1.7s\n",
      "[CV 4/5] END max_depth=15, max_features=11, min_samples_leaf=20, n_estimators=100;, score=0.575 total time=   1.6s\n",
      "[CV 5/5] END max_depth=15, max_features=11, min_samples_leaf=20, n_estimators=100;, score=0.596 total time=   1.6s\n",
      "[CV 1/5] END max_depth=15, max_features=11, min_samples_leaf=20, n_estimators=150;, score=0.562 total time=   2.5s\n",
      "[CV 2/5] END max_depth=15, max_features=11, min_samples_leaf=20, n_estimators=150;, score=0.579 total time=   2.5s\n",
      "[CV 3/5] END max_depth=15, max_features=11, min_samples_leaf=20, n_estimators=150;, score=0.576 total time=   2.5s\n",
      "[CV 4/5] END max_depth=15, max_features=11, min_samples_leaf=20, n_estimators=150;, score=0.571 total time=   2.5s\n",
      "[CV 5/5] END max_depth=15, max_features=11, min_samples_leaf=20, n_estimators=150;, score=0.584 total time=   2.5s\n",
      "[CV 1/5] END max_depth=15, max_features=11, min_samples_leaf=20, n_estimators=200;, score=0.553 total time=   3.3s\n",
      "[CV 2/5] END max_depth=15, max_features=11, min_samples_leaf=20, n_estimators=200;, score=0.591 total time=   3.3s\n",
      "[CV 3/5] END max_depth=15, max_features=11, min_samples_leaf=20, n_estimators=200;, score=0.581 total time=   3.3s\n",
      "[CV 4/5] END max_depth=15, max_features=11, min_samples_leaf=20, n_estimators=200;, score=0.567 total time=   3.3s\n",
      "[CV 5/5] END max_depth=15, max_features=11, min_samples_leaf=20, n_estimators=200;, score=0.582 total time=   3.3s\n"
     ]
    },
    {
     "data": {
      "text/plain": [
       "GridSearchCV(cv=5, estimator=RandomForestClassifier(),\n",
       "             param_grid={'max_depth': [5, 10, 15], 'max_features': [7, 9, 11],\n",
       "                         'min_samples_leaf': [10, 15, 20],\n",
       "                         'n_estimators': [100, 150, 200]},\n",
       "             verbose=3)"
      ]
     },
     "execution_count": 103,
     "metadata": {},
     "output_type": "execute_result"
    }
   ],
   "source": [
    "param_grid = {\n",
    "    'n_estimators':[100,150,200],\n",
    "    'max_depth':[5,10,15],\n",
    "    'max_features':[7,9,11],\n",
    "    'min_samples_leaf':[10,15,20],\n",
    "}\n",
    "grid = GridSearchCV(estimator=clf,param_grid=param_grid,cv=5,verbose=3)\n",
    "grid.fit(X_train,y_train)"
   ]
  },
  {
   "cell_type": "code",
   "execution_count": 104,
   "id": "af570f10",
   "metadata": {
    "scrolled": true
   },
   "outputs": [
    {
     "data": {
      "text/plain": [
       "RandomForestClassifier(max_depth=15, max_features=7, min_samples_leaf=10,\n",
       "                       n_estimators=200)"
      ]
     },
     "execution_count": 104,
     "metadata": {},
     "output_type": "execute_result"
    }
   ],
   "source": [
    "grid.best_estimator_"
   ]
  },
  {
   "cell_type": "code",
   "execution_count": 109,
   "id": "424551f1",
   "metadata": {},
   "outputs": [],
   "source": [
    "pred_y = clf.predict(X_test)\n",
    "pred_y1 = clf.predict(X_train)"
   ]
  },
  {
   "cell_type": "code",
   "execution_count": 110,
   "id": "4275d60a",
   "metadata": {},
   "outputs": [],
   "source": [
    "from sklearn.metrics import confusion_matrix,classification_report"
   ]
  },
  {
   "cell_type": "code",
   "execution_count": 111,
   "id": "6dbfa350",
   "metadata": {},
   "outputs": [
    {
     "name": "stdout",
     "output_type": "stream",
     "text": [
      "[[  0   0   6   7   0   0   0]\n",
      " [  0   3  54  27   0   0   0]\n",
      " [  0   2 575 248  10   0   0]\n",
      " [  0   0 220 838  79   0   0]\n",
      " [  0   0  21 228 208   2   0]\n",
      " [  0   0   0  36  19  13   0]\n",
      " [  0   0   0   1   2   0   0]] \n",
      " [[  14    0    2    1    0    0    0]\n",
      " [   0   91   31   10    0    0    0]\n",
      " [   0    0 1217   83    3    0    0]\n",
      " [   0    0   83 1613    3    0    0]\n",
      " [   0    0    6   74  540    0    0]\n",
      " [   0    0    1   28   12   84    0]\n",
      " [   0    0    0    1    1    0    0]]\n",
      "\n",
      "              precision    recall  f1-score   support\n",
      "\n",
      "           3       0.00      0.00      0.00        13\n",
      "           4       0.60      0.04      0.07        84\n",
      "           5       0.66      0.69      0.67       835\n",
      "           6       0.61      0.74      0.66      1137\n",
      "           7       0.65      0.45      0.54       459\n",
      "           8       0.87      0.19      0.31        68\n",
      "           9       0.00      0.00      0.00         3\n",
      "\n",
      "    accuracy                           0.63      2599\n",
      "   macro avg       0.48      0.30      0.32      2599\n",
      "weighted avg       0.63      0.63      0.61      2599\n",
      "               precision    recall  f1-score   support\n",
      "\n",
      "           3       1.00      0.82      0.90        17\n",
      "           4       1.00      0.69      0.82       132\n",
      "           5       0.91      0.93      0.92      1303\n",
      "           6       0.89      0.95      0.92      1699\n",
      "           7       0.97      0.87      0.92       620\n",
      "           8       1.00      0.67      0.80       125\n",
      "           9       0.00      0.00      0.00         2\n",
      "\n",
      "    accuracy                           0.91      3898\n",
      "   macro avg       0.82      0.71      0.75      3898\n",
      "weighted avg       0.92      0.91      0.91      3898\n",
      "\n"
     ]
    },
    {
     "name": "stderr",
     "output_type": "stream",
     "text": [
      "C:\\Users\\Xiangxian Song\\anaconda3\\lib\\site-packages\\sklearn\\metrics\\_classification.py:1248: UndefinedMetricWarning: Precision and F-score are ill-defined and being set to 0.0 in labels with no predicted samples. Use `zero_division` parameter to control this behavior.\n",
      "  _warn_prf(average, modifier, msg_start, len(result))\n",
      "C:\\Users\\Xiangxian Song\\anaconda3\\lib\\site-packages\\sklearn\\metrics\\_classification.py:1248: UndefinedMetricWarning: Precision and F-score are ill-defined and being set to 0.0 in labels with no predicted samples. Use `zero_division` parameter to control this behavior.\n",
      "  _warn_prf(average, modifier, msg_start, len(result))\n",
      "C:\\Users\\Xiangxian Song\\anaconda3\\lib\\site-packages\\sklearn\\metrics\\_classification.py:1248: UndefinedMetricWarning: Precision and F-score are ill-defined and being set to 0.0 in labels with no predicted samples. Use `zero_division` parameter to control this behavior.\n",
      "  _warn_prf(average, modifier, msg_start, len(result))\n",
      "C:\\Users\\Xiangxian Song\\anaconda3\\lib\\site-packages\\sklearn\\metrics\\_classification.py:1248: UndefinedMetricWarning: Precision and F-score are ill-defined and being set to 0.0 in labels with no predicted samples. Use `zero_division` parameter to control this behavior.\n",
      "  _warn_prf(average, modifier, msg_start, len(result))\n",
      "C:\\Users\\Xiangxian Song\\anaconda3\\lib\\site-packages\\sklearn\\metrics\\_classification.py:1248: UndefinedMetricWarning: Precision and F-score are ill-defined and being set to 0.0 in labels with no predicted samples. Use `zero_division` parameter to control this behavior.\n",
      "  _warn_prf(average, modifier, msg_start, len(result))\n",
      "C:\\Users\\Xiangxian Song\\anaconda3\\lib\\site-packages\\sklearn\\metrics\\_classification.py:1248: UndefinedMetricWarning: Precision and F-score are ill-defined and being set to 0.0 in labels with no predicted samples. Use `zero_division` parameter to control this behavior.\n",
      "  _warn_prf(average, modifier, msg_start, len(result))\n"
     ]
    }
   ],
   "source": [
    "print(confusion_matrix(y_test,pred_y),'\\n',confusion_matrix(y_train,pred_y1))\n",
    "print()\n",
    "print(classification_report(y_test,pred_y),classification_report(y_train,pred_y1))"
   ]
  },
  {
   "cell_type": "code",
   "execution_count": 112,
   "id": "63be3a46",
   "metadata": {},
   "outputs": [],
   "source": [
    "from sklearn.svm import SVC"
   ]
  },
  {
   "cell_type": "code",
   "execution_count": 113,
   "id": "563fc000",
   "metadata": {},
   "outputs": [],
   "source": [
    "model = SVC()"
   ]
  },
  {
   "cell_type": "code",
   "execution_count": 114,
   "id": "58a79780",
   "metadata": {},
   "outputs": [
    {
     "data": {
      "text/plain": [
       "SVC()"
      ]
     },
     "execution_count": 114,
     "metadata": {},
     "output_type": "execute_result"
    }
   ],
   "source": [
    "model.fit(X_train,y_train)"
   ]
  },
  {
   "cell_type": "code",
   "execution_count": 115,
   "id": "0b7b8855",
   "metadata": {},
   "outputs": [],
   "source": [
    "param_grid = {'C':[0.1,1,10,100,1000],'gamma':[1,0.1,0.01,0.001,0.0001]}"
   ]
  },
  {
   "cell_type": "code",
   "execution_count": 116,
   "id": "ba169f60",
   "metadata": {},
   "outputs": [],
   "source": [
    "grid = GridSearchCV(SVC(),param_grid,verbose=3)"
   ]
  },
  {
   "cell_type": "code",
   "execution_count": 117,
   "id": "d9f61a10",
   "metadata": {
    "scrolled": true
   },
   "outputs": [
    {
     "name": "stdout",
     "output_type": "stream",
     "text": [
      "Fitting 5 folds for each of 25 candidates, totalling 125 fits\n"
     ]
    },
    {
     "name": "stderr",
     "output_type": "stream",
     "text": [
      "C:\\Users\\Xiangxian Song\\anaconda3\\lib\\site-packages\\sklearn\\model_selection\\_split.py:666: UserWarning: The least populated class in y has only 2 members, which is less than n_splits=5.\n",
      "  warnings.warn((\"The least populated class in y has only %d\"\n"
     ]
    },
    {
     "name": "stdout",
     "output_type": "stream",
     "text": [
      "[CV 1/5] END ....................C=0.1, gamma=1;, score=0.436 total time=   4.3s\n",
      "[CV 2/5] END ....................C=0.1, gamma=1;, score=0.436 total time=   4.2s\n",
      "[CV 3/5] END ....................C=0.1, gamma=1;, score=0.436 total time=   4.3s\n",
      "[CV 4/5] END ....................C=0.1, gamma=1;, score=0.436 total time=   4.3s\n",
      "[CV 5/5] END ....................C=0.1, gamma=1;, score=0.435 total time=   4.2s\n",
      "[CV 1/5] END ..................C=0.1, gamma=0.1;, score=0.436 total time=   3.1s\n",
      "[CV 2/5] END ..................C=0.1, gamma=0.1;, score=0.436 total time=   3.1s\n",
      "[CV 3/5] END ..................C=0.1, gamma=0.1;, score=0.436 total time=   3.2s\n",
      "[CV 4/5] END ..................C=0.1, gamma=0.1;, score=0.436 total time=   3.1s\n",
      "[CV 5/5] END ..................C=0.1, gamma=0.1;, score=0.435 total time=   3.2s\n",
      "[CV 1/5] END .................C=0.1, gamma=0.01;, score=0.450 total time=   1.5s\n",
      "[CV 2/5] END .................C=0.1, gamma=0.01;, score=0.454 total time=   1.5s\n",
      "[CV 3/5] END .................C=0.1, gamma=0.01;, score=0.445 total time=   1.5s\n",
      "[CV 4/5] END .................C=0.1, gamma=0.01;, score=0.466 total time=   1.6s\n",
      "[CV 5/5] END .................C=0.1, gamma=0.01;, score=0.451 total time=   1.5s\n",
      "[CV 1/5] END ................C=0.1, gamma=0.001;, score=0.450 total time=   1.4s\n",
      "[CV 2/5] END ................C=0.1, gamma=0.001;, score=0.449 total time=   1.5s\n",
      "[CV 3/5] END ................C=0.1, gamma=0.001;, score=0.444 total time=   1.4s\n",
      "[CV 4/5] END ................C=0.1, gamma=0.001;, score=0.440 total time=   1.5s\n",
      "[CV 5/5] END ................C=0.1, gamma=0.001;, score=0.439 total time=   1.5s\n",
      "[CV 1/5] END ...............C=0.1, gamma=0.0001;, score=0.436 total time=   1.4s\n",
      "[CV 2/5] END ...............C=0.1, gamma=0.0001;, score=0.429 total time=   1.4s\n",
      "[CV 3/5] END ...............C=0.1, gamma=0.0001;, score=0.436 total time=   1.4s\n",
      "[CV 4/5] END ...............C=0.1, gamma=0.0001;, score=0.436 total time=   1.4s\n",
      "[CV 5/5] END ...............C=0.1, gamma=0.0001;, score=0.435 total time=   1.4s\n",
      "[CV 1/5] END ......................C=1, gamma=1;, score=0.554 total time=   4.7s\n",
      "[CV 2/5] END ......................C=1, gamma=1;, score=0.538 total time=   4.6s\n",
      "[CV 3/5] END ......................C=1, gamma=1;, score=0.533 total time=   4.6s\n",
      "[CV 4/5] END ......................C=1, gamma=1;, score=0.555 total time=   4.8s\n",
      "[CV 5/5] END ......................C=1, gamma=1;, score=0.551 total time=   4.7s\n",
      "[CV 1/5] END ....................C=1, gamma=0.1;, score=0.527 total time=   3.5s\n",
      "[CV 2/5] END ....................C=1, gamma=0.1;, score=0.540 total time=   3.5s\n",
      "[CV 3/5] END ....................C=1, gamma=0.1;, score=0.519 total time=   3.5s\n",
      "[CV 4/5] END ....................C=1, gamma=0.1;, score=0.544 total time=   3.6s\n",
      "[CV 5/5] END ....................C=1, gamma=0.1;, score=0.543 total time=   3.6s\n",
      "[CV 1/5] END ...................C=1, gamma=0.01;, score=0.488 total time=   1.6s\n",
      "[CV 2/5] END ...................C=1, gamma=0.01;, score=0.496 total time=   1.5s\n",
      "[CV 3/5] END ...................C=1, gamma=0.01;, score=0.481 total time=   1.6s\n",
      "[CV 4/5] END ...................C=1, gamma=0.01;, score=0.483 total time=   1.6s\n",
      "[CV 5/5] END ...................C=1, gamma=0.01;, score=0.496 total time=   1.5s\n",
      "[CV 1/5] END ..................C=1, gamma=0.001;, score=0.472 total time=   1.7s\n",
      "[CV 2/5] END ..................C=1, gamma=0.001;, score=0.487 total time=   1.7s\n",
      "[CV 3/5] END ..................C=1, gamma=0.001;, score=0.456 total time=   1.6s\n",
      "[CV 4/5] END ..................C=1, gamma=0.001;, score=0.487 total time=   1.6s\n",
      "[CV 5/5] END ..................C=1, gamma=0.001;, score=0.462 total time=   1.6s\n",
      "[CV 1/5] END .................C=1, gamma=0.0001;, score=0.449 total time=   1.5s\n",
      "[CV 2/5] END .................C=1, gamma=0.0001;, score=0.429 total time=   1.5s\n",
      "[CV 3/5] END .................C=1, gamma=0.0001;, score=0.445 total time=   1.5s\n",
      "[CV 4/5] END .................C=1, gamma=0.0001;, score=0.447 total time=   1.7s\n",
      "[CV 5/5] END .................C=1, gamma=0.0001;, score=0.429 total time=   1.8s\n",
      "[CV 1/5] END .....................C=10, gamma=1;, score=0.560 total time=   5.1s\n",
      "[CV 2/5] END .....................C=10, gamma=1;, score=0.528 total time=   4.7s\n",
      "[CV 3/5] END .....................C=10, gamma=1;, score=0.544 total time=   4.6s\n",
      "[CV 4/5] END .....................C=10, gamma=1;, score=0.562 total time=   4.5s\n",
      "[CV 5/5] END .....................C=10, gamma=1;, score=0.553 total time=   4.7s\n",
      "[CV 1/5] END ...................C=10, gamma=0.1;, score=0.537 total time=   3.7s\n",
      "[CV 2/5] END ...................C=10, gamma=0.1;, score=0.514 total time=   3.6s\n",
      "[CV 3/5] END ...................C=10, gamma=0.1;, score=0.513 total time=   3.7s\n",
      "[CV 4/5] END ...................C=10, gamma=0.1;, score=0.533 total time=   3.8s\n",
      "[CV 5/5] END ...................C=10, gamma=0.1;, score=0.553 total time=   3.7s\n",
      "[CV 1/5] END ..................C=10, gamma=0.01;, score=0.531 total time=   1.6s\n",
      "[CV 2/5] END ..................C=10, gamma=0.01;, score=0.514 total time=   1.6s\n",
      "[CV 3/5] END ..................C=10, gamma=0.01;, score=0.531 total time=   1.6s\n",
      "[CV 4/5] END ..................C=10, gamma=0.01;, score=0.535 total time=   1.7s\n",
      "[CV 5/5] END ..................C=10, gamma=0.01;, score=0.531 total time=   1.6s\n",
      "[CV 1/5] END .................C=10, gamma=0.001;, score=0.532 total time=   1.8s\n",
      "[CV 2/5] END .................C=10, gamma=0.001;, score=0.508 total time=   1.8s\n",
      "[CV 3/5] END .................C=10, gamma=0.001;, score=0.513 total time=   1.9s\n",
      "[CV 4/5] END .................C=10, gamma=0.001;, score=0.524 total time=   1.7s\n",
      "[CV 5/5] END .................C=10, gamma=0.001;, score=0.506 total time=   1.8s\n",
      "[CV 1/5] END ................C=10, gamma=0.0001;, score=0.497 total time=   2.0s\n",
      "[CV 2/5] END ................C=10, gamma=0.0001;, score=0.505 total time=   2.1s\n",
      "[CV 3/5] END ................C=10, gamma=0.0001;, score=0.521 total time=   2.0s\n",
      "[CV 4/5] END ................C=10, gamma=0.0001;, score=0.525 total time=   1.9s\n",
      "[CV 5/5] END ................C=10, gamma=0.0001;, score=0.494 total time=   2.0s\n",
      "[CV 1/5] END ....................C=100, gamma=1;, score=0.560 total time=   4.8s\n",
      "[CV 2/5] END ....................C=100, gamma=1;, score=0.527 total time=   4.7s\n",
      "[CV 3/5] END ....................C=100, gamma=1;, score=0.544 total time=   4.7s\n",
      "[CV 4/5] END ....................C=100, gamma=1;, score=0.562 total time=   4.6s\n",
      "[CV 5/5] END ....................C=100, gamma=1;, score=0.553 total time=   4.7s\n",
      "[CV 1/5] END ..................C=100, gamma=0.1;, score=0.533 total time=   3.8s\n",
      "[CV 2/5] END ..................C=100, gamma=0.1;, score=0.510 total time=   3.7s\n",
      "[CV 3/5] END ..................C=100, gamma=0.1;, score=0.514 total time=   3.8s\n",
      "[CV 4/5] END ..................C=100, gamma=0.1;, score=0.524 total time=   3.8s\n",
      "[CV 5/5] END ..................C=100, gamma=0.1;, score=0.552 total time=   3.7s\n",
      "[CV 1/5] END .................C=100, gamma=0.01;, score=0.564 total time=   2.6s\n",
      "[CV 2/5] END .................C=100, gamma=0.01;, score=0.527 total time=   2.5s\n",
      "[CV 3/5] END .................C=100, gamma=0.01;, score=0.523 total time=   2.5s\n",
      "[CV 4/5] END .................C=100, gamma=0.01;, score=0.533 total time=   2.5s\n",
      "[CV 5/5] END .................C=100, gamma=0.01;, score=0.530 total time=   2.5s\n",
      "[CV 1/5] END ................C=100, gamma=0.001;, score=0.546 total time=   2.4s\n",
      "[CV 2/5] END ................C=100, gamma=0.001;, score=0.513 total time=   2.4s\n",
      "[CV 3/5] END ................C=100, gamma=0.001;, score=0.527 total time=   2.5s\n",
      "[CV 4/5] END ................C=100, gamma=0.001;, score=0.543 total time=   2.3s\n",
      "[CV 5/5] END ................C=100, gamma=0.001;, score=0.531 total time=   2.3s\n",
      "[CV 1/5] END ...............C=100, gamma=0.0001;, score=0.533 total time=   3.3s\n",
      "[CV 2/5] END ...............C=100, gamma=0.0001;, score=0.531 total time=   3.8s\n",
      "[CV 3/5] END ...............C=100, gamma=0.0001;, score=0.540 total time=   3.5s\n",
      "[CV 4/5] END ...............C=100, gamma=0.0001;, score=0.542 total time=   2.9s\n",
      "[CV 5/5] END ...............C=100, gamma=0.0001;, score=0.529 total time=   3.3s\n",
      "[CV 1/5] END ...................C=1000, gamma=1;, score=0.560 total time=   4.7s\n",
      "[CV 2/5] END ...................C=1000, gamma=1;, score=0.527 total time=   4.6s\n"
     ]
    },
    {
     "name": "stdout",
     "output_type": "stream",
     "text": [
      "[CV 3/5] END ...................C=1000, gamma=1;, score=0.544 total time=   4.7s\n",
      "[CV 4/5] END ...................C=1000, gamma=1;, score=0.562 total time=   4.8s\n",
      "[CV 5/5] END ...................C=1000, gamma=1;, score=0.553 total time=   4.6s\n",
      "[CV 1/5] END .................C=1000, gamma=0.1;, score=0.536 total time=   3.8s\n",
      "[CV 2/5] END .................C=1000, gamma=0.1;, score=0.514 total time=   3.7s\n",
      "[CV 3/5] END .................C=1000, gamma=0.1;, score=0.515 total time=   3.7s\n",
      "[CV 4/5] END .................C=1000, gamma=0.1;, score=0.524 total time=   3.7s\n",
      "[CV 5/5] END .................C=1000, gamma=0.1;, score=0.552 total time=   3.7s\n",
      "[CV 1/5] END ................C=1000, gamma=0.01;, score=0.578 total time=   6.2s\n",
      "[CV 2/5] END ................C=1000, gamma=0.01;, score=0.533 total time=   6.0s\n",
      "[CV 3/5] END ................C=1000, gamma=0.01;, score=0.523 total time=   6.5s\n",
      "[CV 4/5] END ................C=1000, gamma=0.01;, score=0.544 total time=   5.9s\n",
      "[CV 5/5] END ................C=1000, gamma=0.01;, score=0.540 total time=   6.5s\n",
      "[CV 1/5] END ...............C=1000, gamma=0.001;, score=0.569 total time=   6.9s\n",
      "[CV 2/5] END ...............C=1000, gamma=0.001;, score=0.549 total time=   6.8s\n",
      "[CV 3/5] END ...............C=1000, gamma=0.001;, score=0.546 total time=   7.8s\n",
      "[CV 4/5] END ...............C=1000, gamma=0.001;, score=0.573 total time=   7.0s\n",
      "[CV 5/5] END ...............C=1000, gamma=0.001;, score=0.534 total time=   6.8s\n",
      "[CV 1/5] END ..............C=1000, gamma=0.0001;, score=0.546 total time=   7.1s\n",
      "[CV 2/5] END ..............C=1000, gamma=0.0001;, score=0.544 total time=   7.3s\n",
      "[CV 3/5] END ..............C=1000, gamma=0.0001;, score=0.559 total time=  10.0s\n",
      "[CV 4/5] END ..............C=1000, gamma=0.0001;, score=0.547 total time=   7.0s\n",
      "[CV 5/5] END ..............C=1000, gamma=0.0001;, score=0.547 total time=   7.3s\n"
     ]
    },
    {
     "data": {
      "text/plain": [
       "GridSearchCV(estimator=SVC(),\n",
       "             param_grid={'C': [0.1, 1, 10, 100, 1000],\n",
       "                         'gamma': [1, 0.1, 0.01, 0.001, 0.0001]},\n",
       "             verbose=3)"
      ]
     },
     "execution_count": 117,
     "metadata": {},
     "output_type": "execute_result"
    }
   ],
   "source": [
    "grid.fit(X_train,y_train)"
   ]
  },
  {
   "cell_type": "code",
   "execution_count": 118,
   "id": "4ebfb41d",
   "metadata": {},
   "outputs": [],
   "source": [
    "pred_y = grid.predict(X_test)\n",
    "pred_y1 = grid.predict(X_train)"
   ]
  },
  {
   "cell_type": "code",
   "execution_count": 119,
   "id": "a6cd112f",
   "metadata": {},
   "outputs": [
    {
     "name": "stdout",
     "output_type": "stream",
     "text": [
      "[[  1   2   7   3   0   0   0]\n",
      " [  1   4  56  17   5   1   0]\n",
      " [  1   9 554 247  22   2   0]\n",
      " [  0  10 317 722  84   3   1]\n",
      " [  0   1  44 283 131   0   0]\n",
      " [  0   1   7  36  20   4   0]\n",
      " [  0   0   0   2   1   0   0]] \n",
      " [[  12    0    4    1    0    0    0]\n",
      " [   0   33   66   32    1    0    0]\n",
      " [   1    2  951  331   17    1    0]\n",
      " [   0    4  334 1269   91    1    0]\n",
      " [   1    3   32  347  236    1    0]\n",
      " [   0    0   10   56   36   23    0]\n",
      " [   0    0    0    0    0    0    2]]\n",
      "\n",
      "              precision    recall  f1-score   support\n",
      "\n",
      "           3       0.33      0.08      0.12        13\n",
      "           4       0.15      0.05      0.07        84\n",
      "           5       0.56      0.66      0.61       835\n",
      "           6       0.55      0.64      0.59      1137\n",
      "           7       0.50      0.29      0.36       459\n",
      "           8       0.40      0.06      0.10        68\n",
      "           9       0.00      0.00      0.00         3\n",
      "\n",
      "    accuracy                           0.54      2599\n",
      "   macro avg       0.36      0.25      0.27      2599\n",
      "weighted avg       0.53      0.54      0.52      2599\n",
      "               precision    recall  f1-score   support\n",
      "\n",
      "           3       0.86      0.71      0.77        17\n",
      "           4       0.79      0.25      0.38       132\n",
      "           5       0.68      0.73      0.70      1303\n",
      "           6       0.62      0.75      0.68      1699\n",
      "           7       0.62      0.38      0.47       620\n",
      "           8       0.88      0.18      0.30       125\n",
      "           9       1.00      1.00      1.00         2\n",
      "\n",
      "    accuracy                           0.65      3898\n",
      "   macro avg       0.78      0.57      0.62      3898\n",
      "weighted avg       0.66      0.65      0.63      3898\n",
      "\n"
     ]
    }
   ],
   "source": [
    "print(confusion_matrix(y_test,pred_y),'\\n',confusion_matrix(y_train,pred_y1))\n",
    "print()\n",
    "print(classification_report(y_test,pred_y),classification_report(y_train,pred_y1))"
   ]
  },
  {
   "cell_type": "markdown",
   "id": "fff477a7",
   "metadata": {},
   "source": [
    "## PART III REGRESSION"
   ]
  },
  {
   "cell_type": "code",
   "execution_count": 5,
   "id": "ab4f3d1b",
   "metadata": {},
   "outputs": [],
   "source": [
    "red = pd.read_csv('winequality-red.csv',sep=';')\n",
    "white = pd.read_csv('winequality-white.csv',sep=';')"
   ]
  },
  {
   "cell_type": "code",
   "execution_count": 6,
   "id": "1789f615",
   "metadata": {},
   "outputs": [
    {
     "data": {
      "text/html": [
       "<div>\n",
       "<style scoped>\n",
       "    .dataframe tbody tr th:only-of-type {\n",
       "        vertical-align: middle;\n",
       "    }\n",
       "\n",
       "    .dataframe tbody tr th {\n",
       "        vertical-align: top;\n",
       "    }\n",
       "\n",
       "    .dataframe thead th {\n",
       "        text-align: right;\n",
       "    }\n",
       "</style>\n",
       "<table border=\"1\" class=\"dataframe\">\n",
       "  <thead>\n",
       "    <tr style=\"text-align: right;\">\n",
       "      <th></th>\n",
       "      <th>fixed acidity</th>\n",
       "      <th>volatile acidity</th>\n",
       "      <th>citric acid</th>\n",
       "      <th>residual sugar</th>\n",
       "      <th>chlorides</th>\n",
       "      <th>free sulfur dioxide</th>\n",
       "      <th>total sulfur dioxide</th>\n",
       "      <th>density</th>\n",
       "      <th>pH</th>\n",
       "      <th>sulphates</th>\n",
       "      <th>alcohol</th>\n",
       "      <th>quality</th>\n",
       "      <th>type</th>\n",
       "    </tr>\n",
       "  </thead>\n",
       "  <tbody>\n",
       "    <tr>\n",
       "      <th>0</th>\n",
       "      <td>7.0</td>\n",
       "      <td>0.27</td>\n",
       "      <td>0.36</td>\n",
       "      <td>20.7</td>\n",
       "      <td>0.045</td>\n",
       "      <td>45.0</td>\n",
       "      <td>170.0</td>\n",
       "      <td>1.0010</td>\n",
       "      <td>3.00</td>\n",
       "      <td>0.45</td>\n",
       "      <td>8.8</td>\n",
       "      <td>6</td>\n",
       "      <td>white</td>\n",
       "    </tr>\n",
       "    <tr>\n",
       "      <th>1</th>\n",
       "      <td>6.3</td>\n",
       "      <td>0.30</td>\n",
       "      <td>0.34</td>\n",
       "      <td>1.6</td>\n",
       "      <td>0.049</td>\n",
       "      <td>14.0</td>\n",
       "      <td>132.0</td>\n",
       "      <td>0.9940</td>\n",
       "      <td>3.30</td>\n",
       "      <td>0.49</td>\n",
       "      <td>9.5</td>\n",
       "      <td>6</td>\n",
       "      <td>white</td>\n",
       "    </tr>\n",
       "    <tr>\n",
       "      <th>2</th>\n",
       "      <td>8.1</td>\n",
       "      <td>0.28</td>\n",
       "      <td>0.40</td>\n",
       "      <td>6.9</td>\n",
       "      <td>0.050</td>\n",
       "      <td>30.0</td>\n",
       "      <td>97.0</td>\n",
       "      <td>0.9951</td>\n",
       "      <td>3.26</td>\n",
       "      <td>0.44</td>\n",
       "      <td>10.1</td>\n",
       "      <td>6</td>\n",
       "      <td>white</td>\n",
       "    </tr>\n",
       "    <tr>\n",
       "      <th>3</th>\n",
       "      <td>7.2</td>\n",
       "      <td>0.23</td>\n",
       "      <td>0.32</td>\n",
       "      <td>8.5</td>\n",
       "      <td>0.058</td>\n",
       "      <td>47.0</td>\n",
       "      <td>186.0</td>\n",
       "      <td>0.9956</td>\n",
       "      <td>3.19</td>\n",
       "      <td>0.40</td>\n",
       "      <td>9.9</td>\n",
       "      <td>6</td>\n",
       "      <td>white</td>\n",
       "    </tr>\n",
       "    <tr>\n",
       "      <th>4</th>\n",
       "      <td>7.2</td>\n",
       "      <td>0.23</td>\n",
       "      <td>0.32</td>\n",
       "      <td>8.5</td>\n",
       "      <td>0.058</td>\n",
       "      <td>47.0</td>\n",
       "      <td>186.0</td>\n",
       "      <td>0.9956</td>\n",
       "      <td>3.19</td>\n",
       "      <td>0.40</td>\n",
       "      <td>9.9</td>\n",
       "      <td>6</td>\n",
       "      <td>white</td>\n",
       "    </tr>\n",
       "  </tbody>\n",
       "</table>\n",
       "</div>"
      ],
      "text/plain": [
       "   fixed acidity  volatile acidity  citric acid  residual sugar  chlorides  \\\n",
       "0            7.0              0.27         0.36            20.7      0.045   \n",
       "1            6.3              0.30         0.34             1.6      0.049   \n",
       "2            8.1              0.28         0.40             6.9      0.050   \n",
       "3            7.2              0.23         0.32             8.5      0.058   \n",
       "4            7.2              0.23         0.32             8.5      0.058   \n",
       "\n",
       "   free sulfur dioxide  total sulfur dioxide  density    pH  sulphates  \\\n",
       "0                 45.0                 170.0   1.0010  3.00       0.45   \n",
       "1                 14.0                 132.0   0.9940  3.30       0.49   \n",
       "2                 30.0                  97.0   0.9951  3.26       0.44   \n",
       "3                 47.0                 186.0   0.9956  3.19       0.40   \n",
       "4                 47.0                 186.0   0.9956  3.19       0.40   \n",
       "\n",
       "   alcohol  quality   type  \n",
       "0      8.8        6  white  \n",
       "1      9.5        6  white  \n",
       "2     10.1        6  white  \n",
       "3      9.9        6  white  \n",
       "4      9.9        6  white  "
      ]
     },
     "execution_count": 6,
     "metadata": {},
     "output_type": "execute_result"
    }
   ],
   "source": [
    "# Linking red and white wine datasets together\n",
    "white['type'] = 'white'\n",
    "red['type'] = 'red'\n",
    "wine = pd.concat([white,red])\n",
    "wine.head()"
   ]
  },
  {
   "cell_type": "code",
   "execution_count": 7,
   "id": "1af77a84",
   "metadata": {},
   "outputs": [
    {
     "data": {
      "text/html": [
       "<div>\n",
       "<style scoped>\n",
       "    .dataframe tbody tr th:only-of-type {\n",
       "        vertical-align: middle;\n",
       "    }\n",
       "\n",
       "    .dataframe tbody tr th {\n",
       "        vertical-align: top;\n",
       "    }\n",
       "\n",
       "    .dataframe thead th {\n",
       "        text-align: right;\n",
       "    }\n",
       "</style>\n",
       "<table border=\"1\" class=\"dataframe\">\n",
       "  <thead>\n",
       "    <tr style=\"text-align: right;\">\n",
       "      <th></th>\n",
       "      <th>fixed acidity</th>\n",
       "      <th>volatile acidity</th>\n",
       "      <th>citric acid</th>\n",
       "      <th>residual sugar</th>\n",
       "      <th>chlorides</th>\n",
       "      <th>free sulfur dioxide</th>\n",
       "      <th>total sulfur dioxide</th>\n",
       "      <th>density</th>\n",
       "      <th>pH</th>\n",
       "      <th>sulphates</th>\n",
       "      <th>alcohol</th>\n",
       "      <th>quality</th>\n",
       "      <th>type</th>\n",
       "    </tr>\n",
       "  </thead>\n",
       "  <tbody>\n",
       "    <tr>\n",
       "      <th>0</th>\n",
       "      <td>6.7</td>\n",
       "      <td>0.640</td>\n",
       "      <td>0.30</td>\n",
       "      <td>1.2</td>\n",
       "      <td>0.030</td>\n",
       "      <td>18.0</td>\n",
       "      <td>76.0</td>\n",
       "      <td>0.98920</td>\n",
       "      <td>3.16</td>\n",
       "      <td>0.60</td>\n",
       "      <td>12.9</td>\n",
       "      <td>4</td>\n",
       "      <td>white</td>\n",
       "    </tr>\n",
       "    <tr>\n",
       "      <th>1</th>\n",
       "      <td>7.2</td>\n",
       "      <td>0.560</td>\n",
       "      <td>0.26</td>\n",
       "      <td>2.0</td>\n",
       "      <td>0.083</td>\n",
       "      <td>13.0</td>\n",
       "      <td>100.0</td>\n",
       "      <td>0.99586</td>\n",
       "      <td>3.26</td>\n",
       "      <td>0.52</td>\n",
       "      <td>9.9</td>\n",
       "      <td>5</td>\n",
       "      <td>red</td>\n",
       "    </tr>\n",
       "    <tr>\n",
       "      <th>2</th>\n",
       "      <td>9.1</td>\n",
       "      <td>0.775</td>\n",
       "      <td>0.22</td>\n",
       "      <td>2.2</td>\n",
       "      <td>0.079</td>\n",
       "      <td>12.0</td>\n",
       "      <td>48.0</td>\n",
       "      <td>0.99760</td>\n",
       "      <td>3.18</td>\n",
       "      <td>0.51</td>\n",
       "      <td>9.6</td>\n",
       "      <td>5</td>\n",
       "      <td>red</td>\n",
       "    </tr>\n",
       "    <tr>\n",
       "      <th>3</th>\n",
       "      <td>6.8</td>\n",
       "      <td>0.210</td>\n",
       "      <td>0.27</td>\n",
       "      <td>2.1</td>\n",
       "      <td>0.030</td>\n",
       "      <td>26.0</td>\n",
       "      <td>139.0</td>\n",
       "      <td>0.99000</td>\n",
       "      <td>3.16</td>\n",
       "      <td>0.61</td>\n",
       "      <td>12.6</td>\n",
       "      <td>7</td>\n",
       "      <td>white</td>\n",
       "    </tr>\n",
       "    <tr>\n",
       "      <th>4</th>\n",
       "      <td>7.5</td>\n",
       "      <td>0.610</td>\n",
       "      <td>0.26</td>\n",
       "      <td>1.9</td>\n",
       "      <td>0.073</td>\n",
       "      <td>24.0</td>\n",
       "      <td>88.0</td>\n",
       "      <td>0.99612</td>\n",
       "      <td>3.30</td>\n",
       "      <td>0.53</td>\n",
       "      <td>9.8</td>\n",
       "      <td>5</td>\n",
       "      <td>red</td>\n",
       "    </tr>\n",
       "  </tbody>\n",
       "</table>\n",
       "</div>"
      ],
      "text/plain": [
       "   fixed acidity  volatile acidity  citric acid  residual sugar  chlorides  \\\n",
       "0            6.7             0.640         0.30             1.2      0.030   \n",
       "1            7.2             0.560         0.26             2.0      0.083   \n",
       "2            9.1             0.775         0.22             2.2      0.079   \n",
       "3            6.8             0.210         0.27             2.1      0.030   \n",
       "4            7.5             0.610         0.26             1.9      0.073   \n",
       "\n",
       "   free sulfur dioxide  total sulfur dioxide  density    pH  sulphates  \\\n",
       "0                 18.0                  76.0  0.98920  3.16       0.60   \n",
       "1                 13.0                 100.0  0.99586  3.26       0.52   \n",
       "2                 12.0                  48.0  0.99760  3.18       0.51   \n",
       "3                 26.0                 139.0  0.99000  3.16       0.61   \n",
       "4                 24.0                  88.0  0.99612  3.30       0.53   \n",
       "\n",
       "   alcohol  quality   type  \n",
       "0     12.9        4  white  \n",
       "1      9.9        5    red  \n",
       "2      9.6        5    red  \n",
       "3     12.6        7  white  \n",
       "4      9.8        5    red  "
      ]
     },
     "execution_count": 7,
     "metadata": {},
     "output_type": "execute_result"
    }
   ],
   "source": [
    "# Shuffling data-shuffle the sample data, but keep the data for each sample the same\n",
    "wine_shuff = wine.sample(frac=1).reset_index(drop=True)\n",
    "# After mixing, the index of the dataset is still sorted according to the normal order.\n",
    "wine_shuff.head()"
   ]
  },
  {
   "cell_type": "code",
   "execution_count": 8,
   "id": "778623f8",
   "metadata": {},
   "outputs": [
    {
     "data": {
      "text/plain": [
       "fixed acidity           0\n",
       "volatile acidity        0\n",
       "citric acid             0\n",
       "residual sugar          0\n",
       "chlorides               0\n",
       "free sulfur dioxide     0\n",
       "total sulfur dioxide    0\n",
       "density                 0\n",
       "pH                      0\n",
       "sulphates               0\n",
       "alcohol                 0\n",
       "quality                 0\n",
       "type                    0\n",
       "dtype: int64"
      ]
     },
     "execution_count": 8,
     "metadata": {},
     "output_type": "execute_result"
    }
   ],
   "source": [
    "# Checking for NULL Values\n",
    "Sum =wine_shuff.isnull().sum()\n",
    "Sum"
   ]
  },
  {
   "cell_type": "code",
   "execution_count": 9,
   "id": "3929f854",
   "metadata": {},
   "outputs": [
    {
     "data": {
      "text/plain": [
       "<AxesSubplot:>"
      ]
     },
     "execution_count": 9,
     "metadata": {},
     "output_type": "execute_result"
    },
    {
     "data": {
      "image/png": "[encoded data removed]",
      "text/plain": [
       "<Figure size 432x288 with 1 Axes>"
      ]
     },
     "metadata": {
      "needs_background": "light"
     },
     "output_type": "display_data"
    }
   ],
   "source": [
    "# Looking NA values with heatmap\n",
    "import seaborn as sns\n",
    "sns.heatmap(wine_shuff.isnull(),yticklabels=False,cbar=False,cmap='viridis')"
   ]
  },
  {
   "cell_type": "code",
   "execution_count": 10,
   "id": "1cba253a",
   "metadata": {},
   "outputs": [
    {
     "name": "stdout",
     "output_type": "stream",
     "text": [
      "<class 'pandas.core.frame.DataFrame'>\n",
      "RangeIndex: 6497 entries, 0 to 6496\n",
      "Data columns (total 13 columns):\n",
      " #   Column                Non-Null Count  Dtype  \n",
      "---  ------                --------------  -----  \n",
      " 0   fixed acidity         6497 non-null   float64\n",
      " 1   volatile acidity      6497 non-null   float64\n",
      " 2   citric acid           6497 non-null   float64\n",
      " 3   residual sugar        6497 non-null   float64\n",
      " 4   chlorides             6497 non-null   float64\n",
      " 5   free sulfur dioxide   6497 non-null   float64\n",
      " 6   total sulfur dioxide  6497 non-null   float64\n",
      " 7   density               6497 non-null   float64\n",
      " 8   pH                    6497 non-null   float64\n",
      " 9   sulphates             6497 non-null   float64\n",
      " 10  alcohol               6497 non-null   float64\n",
      " 11  quality               6497 non-null   int64  \n",
      " 12  type                  6497 non-null   object \n",
      "dtypes: float64(11), int64(1), object(1)\n",
      "memory usage: 660.0+ KB\n"
     ]
    }
   ],
   "source": [
    "wine_shuff.info()"
   ]
  },
  {
   "cell_type": "code",
   "execution_count": 11,
   "id": "0bf40d27",
   "metadata": {},
   "outputs": [
    {
     "data": {
      "text/plain": [
       "type\n",
       "red      5.636023\n",
       "white    5.877909\n",
       "Name: quality, dtype: float64"
      ]
     },
     "execution_count": 11,
     "metadata": {},
     "output_type": "execute_result"
    }
   ],
   "source": [
    "# Is a certain type of wine (red or white) associated with higher quality?\n",
    "wine_shuff.groupby('type')['quality'].mean()"
   ]
  },
  {
   "cell_type": "code",
   "execution_count": 12,
   "id": "48102623",
   "metadata": {},
   "outputs": [
    {
     "data": {
      "text/plain": [
       "quality                 1.000000\n",
       "alcohol                 0.444319\n",
       "citric acid             0.085532\n",
       "free sulfur dioxide     0.055463\n",
       "sulphates               0.038485\n",
       "pH                      0.019506\n",
       "residual sugar         -0.036980\n",
       "total sulfur dioxide   -0.041385\n",
       "fixed acidity          -0.076743\n",
       "chlorides              -0.200666\n",
       "volatile acidity       -0.265699\n",
       "density                -0.305858\n",
       "Name: quality, dtype: float64"
      ]
     },
     "execution_count": 12,
     "metadata": {},
     "output_type": "execute_result"
    }
   ],
   "source": [
    "# Correlation between Quality and Features\n",
    "correlation=wine_shuff.corr()\n",
    "quality_corr=correlation[\"quality\"]\n",
    "quality_corr=quality_corr.sort_values(ascending=False)\n",
    "#quality_corr_lower=quality_corr[(quality_corr)<0.2]\n",
    "#quality_corr_higher=quality_corr[(quality_corr)>0.2]\n",
    "quality_corr"
   ]
  },
  {
   "cell_type": "markdown",
   "id": "6608434e",
   "metadata": {},
   "source": [
    "Wine quality has the highest correlation with alcohol. Other relation degrees are very low with each other,such as citric acid,free_sulfur_dioxide, sulphates and pH. Quality also has a low negative correlation with density,volatile acidity, chlorides, total_sulfur_dioxide and residual_sugar.\n",
    "\n",
    "The absolute values of correlations were considered:\n",
    "The columns pH,residual sugar,sulphates,total sulfur dioxide,free sulfur dioxide,fixed acidity,citric acid have very weak correlation (0.00 - 0.20); the columns chlorides,volatile acidity,density,and alcohol have weak correlation (0.20 - 0.40)."
   ]
  },
  {
   "cell_type": "code",
   "execution_count": 14,
   "id": "1cf23796",
   "metadata": {},
   "outputs": [
    {
     "data": {
      "text/html": [
       "<div>\n",
       "<style scoped>\n",
       "    .dataframe tbody tr th:only-of-type {\n",
       "        vertical-align: middle;\n",
       "    }\n",
       "\n",
       "    .dataframe tbody tr th {\n",
       "        vertical-align: top;\n",
       "    }\n",
       "\n",
       "    .dataframe thead th {\n",
       "        text-align: right;\n",
       "    }\n",
       "</style>\n",
       "<table border=\"1\" class=\"dataframe\">\n",
       "  <thead>\n",
       "    <tr style=\"text-align: right;\">\n",
       "      <th></th>\n",
       "      <th>fixed acidity</th>\n",
       "      <th>volatile acidity</th>\n",
       "      <th>citric acid</th>\n",
       "      <th>residual sugar</th>\n",
       "      <th>chlorides</th>\n",
       "      <th>free sulfur dioxide</th>\n",
       "      <th>total sulfur dioxide</th>\n",
       "      <th>density</th>\n",
       "      <th>pH</th>\n",
       "      <th>sulphates</th>\n",
       "      <th>alcohol</th>\n",
       "    </tr>\n",
       "  </thead>\n",
       "  <tbody>\n",
       "    <tr>\n",
       "      <th>0</th>\n",
       "      <td>6.7</td>\n",
       "      <td>0.640</td>\n",
       "      <td>0.30</td>\n",
       "      <td>1.20</td>\n",
       "      <td>0.030</td>\n",
       "      <td>18.0</td>\n",
       "      <td>76.0</td>\n",
       "      <td>0.98920</td>\n",
       "      <td>3.16</td>\n",
       "      <td>0.60</td>\n",
       "      <td>12.9</td>\n",
       "    </tr>\n",
       "    <tr>\n",
       "      <th>1</th>\n",
       "      <td>7.2</td>\n",
       "      <td>0.560</td>\n",
       "      <td>0.26</td>\n",
       "      <td>2.00</td>\n",
       "      <td>0.083</td>\n",
       "      <td>13.0</td>\n",
       "      <td>100.0</td>\n",
       "      <td>0.99586</td>\n",
       "      <td>3.26</td>\n",
       "      <td>0.52</td>\n",
       "      <td>9.9</td>\n",
       "    </tr>\n",
       "    <tr>\n",
       "      <th>2</th>\n",
       "      <td>9.1</td>\n",
       "      <td>0.775</td>\n",
       "      <td>0.22</td>\n",
       "      <td>2.20</td>\n",
       "      <td>0.079</td>\n",
       "      <td>12.0</td>\n",
       "      <td>48.0</td>\n",
       "      <td>0.99760</td>\n",
       "      <td>3.18</td>\n",
       "      <td>0.51</td>\n",
       "      <td>9.6</td>\n",
       "    </tr>\n",
       "    <tr>\n",
       "      <th>3</th>\n",
       "      <td>6.8</td>\n",
       "      <td>0.210</td>\n",
       "      <td>0.27</td>\n",
       "      <td>2.10</td>\n",
       "      <td>0.030</td>\n",
       "      <td>26.0</td>\n",
       "      <td>139.0</td>\n",
       "      <td>0.99000</td>\n",
       "      <td>3.16</td>\n",
       "      <td>0.61</td>\n",
       "      <td>12.6</td>\n",
       "    </tr>\n",
       "    <tr>\n",
       "      <th>4</th>\n",
       "      <td>7.5</td>\n",
       "      <td>0.610</td>\n",
       "      <td>0.26</td>\n",
       "      <td>1.90</td>\n",
       "      <td>0.073</td>\n",
       "      <td>24.0</td>\n",
       "      <td>88.0</td>\n",
       "      <td>0.99612</td>\n",
       "      <td>3.30</td>\n",
       "      <td>0.53</td>\n",
       "      <td>9.8</td>\n",
       "    </tr>\n",
       "    <tr>\n",
       "      <th>...</th>\n",
       "      <td>...</td>\n",
       "      <td>...</td>\n",
       "      <td>...</td>\n",
       "      <td>...</td>\n",
       "      <td>...</td>\n",
       "      <td>...</td>\n",
       "      <td>...</td>\n",
       "      <td>...</td>\n",
       "      <td>...</td>\n",
       "      <td>...</td>\n",
       "      <td>...</td>\n",
       "    </tr>\n",
       "    <tr>\n",
       "      <th>6492</th>\n",
       "      <td>8.1</td>\n",
       "      <td>0.300</td>\n",
       "      <td>0.49</td>\n",
       "      <td>12.30</td>\n",
       "      <td>0.049</td>\n",
       "      <td>50.0</td>\n",
       "      <td>144.0</td>\n",
       "      <td>0.99710</td>\n",
       "      <td>3.09</td>\n",
       "      <td>0.57</td>\n",
       "      <td>10.2</td>\n",
       "    </tr>\n",
       "    <tr>\n",
       "      <th>6493</th>\n",
       "      <td>6.4</td>\n",
       "      <td>0.120</td>\n",
       "      <td>0.30</td>\n",
       "      <td>1.10</td>\n",
       "      <td>0.031</td>\n",
       "      <td>37.0</td>\n",
       "      <td>94.0</td>\n",
       "      <td>0.98986</td>\n",
       "      <td>3.01</td>\n",
       "      <td>0.56</td>\n",
       "      <td>11.7</td>\n",
       "    </tr>\n",
       "    <tr>\n",
       "      <th>6494</th>\n",
       "      <td>9.1</td>\n",
       "      <td>0.270</td>\n",
       "      <td>0.45</td>\n",
       "      <td>10.60</td>\n",
       "      <td>0.035</td>\n",
       "      <td>28.0</td>\n",
       "      <td>124.0</td>\n",
       "      <td>0.99700</td>\n",
       "      <td>3.20</td>\n",
       "      <td>0.46</td>\n",
       "      <td>10.4</td>\n",
       "    </tr>\n",
       "    <tr>\n",
       "      <th>6495</th>\n",
       "      <td>6.6</td>\n",
       "      <td>0.200</td>\n",
       "      <td>0.38</td>\n",
       "      <td>7.90</td>\n",
       "      <td>0.052</td>\n",
       "      <td>30.0</td>\n",
       "      <td>145.0</td>\n",
       "      <td>0.99470</td>\n",
       "      <td>3.32</td>\n",
       "      <td>0.56</td>\n",
       "      <td>11.0</td>\n",
       "    </tr>\n",
       "    <tr>\n",
       "      <th>6496</th>\n",
       "      <td>6.6</td>\n",
       "      <td>0.240</td>\n",
       "      <td>0.38</td>\n",
       "      <td>12.75</td>\n",
       "      <td>0.034</td>\n",
       "      <td>8.0</td>\n",
       "      <td>74.0</td>\n",
       "      <td>0.99386</td>\n",
       "      <td>3.10</td>\n",
       "      <td>0.57</td>\n",
       "      <td>12.9</td>\n",
       "    </tr>\n",
       "  </tbody>\n",
       "</table>\n",
       "<p>6497 rows × 11 columns</p>\n",
       "</div>"
      ],
      "text/plain": [
       "      fixed acidity  volatile acidity  citric acid  residual sugar  chlorides  \\\n",
       "0               6.7             0.640         0.30            1.20      0.030   \n",
       "1               7.2             0.560         0.26            2.00      0.083   \n",
       "2               9.1             0.775         0.22            2.20      0.079   \n",
       "3               6.8             0.210         0.27            2.10      0.030   \n",
       "4               7.5             0.610         0.26            1.90      0.073   \n",
       "...             ...               ...          ...             ...        ...   \n",
       "6492            8.1             0.300         0.49           12.30      0.049   \n",
       "6493            6.4             0.120         0.30            1.10      0.031   \n",
       "6494            9.1             0.270         0.45           10.60      0.035   \n",
       "6495            6.6             0.200         0.38            7.90      0.052   \n",
       "6496            6.6             0.240         0.38           12.75      0.034   \n",
       "\n",
       "      free sulfur dioxide  total sulfur dioxide  density    pH  sulphates  \\\n",
       "0                    18.0                  76.0  0.98920  3.16       0.60   \n",
       "1                    13.0                 100.0  0.99586  3.26       0.52   \n",
       "2                    12.0                  48.0  0.99760  3.18       0.51   \n",
       "3                    26.0                 139.0  0.99000  3.16       0.61   \n",
       "4                    24.0                  88.0  0.99612  3.30       0.53   \n",
       "...                   ...                   ...      ...   ...        ...   \n",
       "6492                 50.0                 144.0  0.99710  3.09       0.57   \n",
       "6493                 37.0                  94.0  0.98986  3.01       0.56   \n",
       "6494                 28.0                 124.0  0.99700  3.20       0.46   \n",
       "6495                 30.0                 145.0  0.99470  3.32       0.56   \n",
       "6496                  8.0                  74.0  0.99386  3.10       0.57   \n",
       "\n",
       "      alcohol  \n",
       "0        12.9  \n",
       "1         9.9  \n",
       "2         9.6  \n",
       "3        12.6  \n",
       "4         9.8  \n",
       "...       ...  \n",
       "6492     10.2  \n",
       "6493     11.7  \n",
       "6494     10.4  \n",
       "6495     11.0  \n",
       "6496     12.9  \n",
       "\n",
       "[6497 rows x 11 columns]"
      ]
     },
     "execution_count": 14,
     "metadata": {},
     "output_type": "execute_result"
    }
   ],
   "source": [
    "df_x = wine_shuff.iloc[:, [0,1,2,3,4,5,6,7,8,9,10]]\n",
    "df_x"
   ]
  },
  {
   "cell_type": "code",
   "execution_count": 15,
   "id": "dc351c1c",
   "metadata": {},
   "outputs": [
    {
     "data": {
      "text/html": [
       "<div>\n",
       "<style scoped>\n",
       "    .dataframe tbody tr th:only-of-type {\n",
       "        vertical-align: middle;\n",
       "    }\n",
       "\n",
       "    .dataframe tbody tr th {\n",
       "        vertical-align: top;\n",
       "    }\n",
       "\n",
       "    .dataframe thead th {\n",
       "        text-align: right;\n",
       "    }\n",
       "</style>\n",
       "<table border=\"1\" class=\"dataframe\">\n",
       "  <thead>\n",
       "    <tr style=\"text-align: right;\">\n",
       "      <th></th>\n",
       "      <th>quality</th>\n",
       "    </tr>\n",
       "  </thead>\n",
       "  <tbody>\n",
       "    <tr>\n",
       "      <th>0</th>\n",
       "      <td>4</td>\n",
       "    </tr>\n",
       "    <tr>\n",
       "      <th>1</th>\n",
       "      <td>5</td>\n",
       "    </tr>\n",
       "    <tr>\n",
       "      <th>2</th>\n",
       "      <td>5</td>\n",
       "    </tr>\n",
       "    <tr>\n",
       "      <th>3</th>\n",
       "      <td>7</td>\n",
       "    </tr>\n",
       "    <tr>\n",
       "      <th>4</th>\n",
       "      <td>5</td>\n",
       "    </tr>\n",
       "    <tr>\n",
       "      <th>...</th>\n",
       "      <td>...</td>\n",
       "    </tr>\n",
       "    <tr>\n",
       "      <th>6492</th>\n",
       "      <td>7</td>\n",
       "    </tr>\n",
       "    <tr>\n",
       "      <th>6493</th>\n",
       "      <td>6</td>\n",
       "    </tr>\n",
       "    <tr>\n",
       "      <th>6494</th>\n",
       "      <td>9</td>\n",
       "    </tr>\n",
       "    <tr>\n",
       "      <th>6495</th>\n",
       "      <td>7</td>\n",
       "    </tr>\n",
       "    <tr>\n",
       "      <th>6496</th>\n",
       "      <td>6</td>\n",
       "    </tr>\n",
       "  </tbody>\n",
       "</table>\n",
       "<p>6497 rows × 1 columns</p>\n",
       "</div>"
      ],
      "text/plain": [
       "      quality\n",
       "0           4\n",
       "1           5\n",
       "2           5\n",
       "3           7\n",
       "4           5\n",
       "...       ...\n",
       "6492        7\n",
       "6493        6\n",
       "6494        9\n",
       "6495        7\n",
       "6496        6\n",
       "\n",
       "[6497 rows x 1 columns]"
      ]
     },
     "execution_count": 15,
     "metadata": {},
     "output_type": "execute_result"
    }
   ],
   "source": [
    "# Take target variable (quality) in Y\n",
    "df_y = wine_shuff.iloc[:, [11]]\n",
    "df_y"
   ]
  },
  {
   "cell_type": "code",
   "execution_count": 16,
   "id": "808e9006",
   "metadata": {},
   "outputs": [
    {
     "name": "stdout",
     "output_type": "stream",
     "text": [
      "train/test shapes:\n",
      "(5197, 11) (1300, 11) (5197, 1) (1300, 1)\n"
     ]
    }
   ],
   "source": [
    "from sklearn.model_selection import train_test_split\n",
    "# split the features and target data sets into train and test sets\n",
    "# training set: the data used to fit the model\n",
    "# test set: the data partitioned away at the very start of the experiment (to provide an unbiased evaluation of the model)\n",
    "# putting 80% of our data in the training set and 20% of our data in the test set \n",
    "x_train, x_test, y_train, y_test = train_test_split(df_x, df_y, test_size=0.2, random_state=521)\n",
    "print('train/test shapes:')\n",
    "print(x_train.shape, x_test.shape, y_train.shape, y_test.shape)"
   ]
  },
  {
   "cell_type": "code",
   "execution_count": 17,
   "id": "5a4b75a9",
   "metadata": {},
   "outputs": [
    {
     "data": {
      "text/plain": [
       "LinearRegression()"
      ]
     },
     "execution_count": 17,
     "metadata": {},
     "output_type": "execute_result"
    }
   ],
   "source": [
    "# fit the linear model and test the score\n",
    "from sklearn import linear_model\n",
    "from sklearn.linear_model import LogisticRegression\n",
    "mrl=linear_model.LinearRegression()\n",
    "mrl.fit(x_train, y_train) # the training set is used to build the model"
   ]
  },
  {
   "cell_type": "code",
   "execution_count": 18,
   "id": "d4c34d94",
   "metadata": {},
   "outputs": [
    {
     "data": {
      "text/plain": [
       "array([[5.14291563],\n",
       "       [6.88408705],\n",
       "       [4.75554404],\n",
       "       ...,\n",
       "       [5.27315044],\n",
       "       [5.55802025],\n",
       "       [4.64146442]])"
      ]
     },
     "execution_count": 18,
     "metadata": {},
     "output_type": "execute_result"
    }
   ],
   "source": [
    "mrl.predict(x_test) # the test set is used to predict"
   ]
  },
  {
   "cell_type": "code",
   "execution_count": 19,
   "id": "c382eca9",
   "metadata": {},
   "outputs": [
    {
     "name": "stdout",
     "output_type": "stream",
     "text": [
      "coefficient =  [[ 4.68419471e-02 -1.24947829e+00 -9.41372418e-02  4.14151305e-02\n",
      "  -6.53127637e-01  6.60344439e-03 -2.94234787e-03 -4.90931795e+01\n",
      "   3.18693100e-01  7.34031203e-01  2.70424366e-01]]\n"
     ]
    }
   ],
   "source": [
    "coef_arr = mrl.coef_\n",
    "print('coefficient = ', coef_arr)\n",
    "# The regression coefficient is a parameter in the regression equation that expresses \n",
    "# the magnitude of the influence of the independent variable x on the dependent variable y. \n",
    "# A larger regression coefficient indicates that x has a greater influence on y, \n",
    "# a positive regression coefficient indicates that y increases as x increases, \n",
    "# and a negative regression coefficient indicates that y decreases as x increases."
   ]
  },
  {
   "cell_type": "code",
   "execution_count": 20,
   "id": "d58e98cc",
   "metadata": {},
   "outputs": [
    {
     "name": "stdout",
     "output_type": "stream",
     "text": [
      "test score of model =  0.3063708859875931\n"
     ]
    }
   ],
   "source": [
    "# compare the predicted value with the true value,and rate them\n",
    "test_score = mrl.score(x_test,y_test)\n",
    "print('test score of model = ', test_score) # R_squared: the regression line explains 29% of the total variation in the response values.\n",
    "\n",
    "# For the correlation coefficient r, |r|≤1, the closer |r| is to 1, \n",
    "# the greater the degree of correlation; the closer |r| is to 0, the smaller the degree of correlation.\n",
    "\n",
    "# R² can also be used to determine the degree of fit. The closer the value of R² is to 1, \n",
    "# the better the fit of the regression line to the observed values; on the contrary, \n",
    "# the smaller the value of R², the worse the fit of the regression line to the observed values."
   ]
  },
  {
   "cell_type": "markdown",
   "id": "0aa3208f",
   "metadata": {},
   "source": [
    "Since R² is equal to 0.29, it means that our regression model is not fitting well.In order to improve performance,we decided to rebuild the model with sklearn."
   ]
  },
  {
   "cell_type": "markdown",
   "id": "b067af7b",
   "metadata": {},
   "source": [
    "Since the precision of the wine data we imported is not the same, we need to normalize them first.\n",
    "Normalization is a common requirement for machine learning tasks, and many algorithms assume that all features are centered around zero and have roughly the same variance."
   ]
  },
  {
   "cell_type": "code",
   "execution_count": 22,
   "id": "3a1af882",
   "metadata": {},
   "outputs": [],
   "source": [
    "from sklearn.pipeline import make_pipeline\n",
    "from sklearn import preprocessing\n",
    "from sklearn.ensemble import RandomForestRegressor \n",
    "# A modeling pipeline that first transforms the data using StandardScaler(),\n",
    "# and then fits the model using the random forest regressor RandomForestRegressor().\n",
    "pipeline = make_pipeline(preprocessing.StandardScaler(), RandomForestRegressor(n_estimators= 100)) "
   ]
  },
  {
   "cell_type": "code",
   "execution_count": 23,
   "id": "6c46790c",
   "metadata": {},
   "outputs": [],
   "source": [
    "# Declaring hyperparameters\n",
    "# Hyperparameters are parameters whose values are set before starting the learning process, \n",
    "# not parameter data obtained through training. Usually, hyperparameters need to be optimized, \n",
    "# and a set of optimal hyperparameters is selected for the learning machine to improve the performance and effect of learning.\n",
    "hyperparameters = { 'randomforestregressor__max_features' : [ 'auto', 'sqrt', 'log2'], \n",
    "                   'randomforestregressor__max_depth':[ None, 5, 3, 1]}"
   ]
  },
  {
   "cell_type": "code",
   "execution_count": 24,
   "id": "2e067055",
   "metadata": {
    "scrolled": true
   },
   "outputs": [
    {
     "name": "stderr",
     "output_type": "stream",
     "text": [
      "C:\\Users\\Xiangxian Song\\anaconda3\\lib\\site-packages\\sklearn\\pipeline.py:346: DataConversionWarning: A column-vector y was passed when a 1d array was expected. Please change the shape of y to (n_samples,), for example using ravel().\n",
      "  self._final_estimator.fit(Xt, y, **fit_params_last_step)\n",
      "C:\\Users\\Xiangxian Song\\anaconda3\\lib\\site-packages\\sklearn\\pipeline.py:346: DataConversionWarning: A column-vector y was passed when a 1d array was expected. Please change the shape of y to (n_samples,), for example using ravel().\n",
      "  self._final_estimator.fit(Xt, y, **fit_params_last_step)\n",
      "C:\\Users\\Xiangxian Song\\anaconda3\\lib\\site-packages\\sklearn\\pipeline.py:346: DataConversionWarning: A column-vector y was passed when a 1d array was expected. Please change the shape of y to (n_samples,), for example using ravel().\n",
      "  self._final_estimator.fit(Xt, y, **fit_params_last_step)\n",
      "C:\\Users\\Xiangxian Song\\anaconda3\\lib\\site-packages\\sklearn\\pipeline.py:346: DataConversionWarning: A column-vector y was passed when a 1d array was expected. Please change the shape of y to (n_samples,), for example using ravel().\n",
      "  self._final_estimator.fit(Xt, y, **fit_params_last_step)\n",
      "C:\\Users\\Xiangxian Song\\anaconda3\\lib\\site-packages\\sklearn\\pipeline.py:346: DataConversionWarning: A column-vector y was passed when a 1d array was expected. Please change the shape of y to (n_samples,), for example using ravel().\n",
      "  self._final_estimator.fit(Xt, y, **fit_params_last_step)\n",
      "C:\\Users\\Xiangxian Song\\anaconda3\\lib\\site-packages\\sklearn\\pipeline.py:346: DataConversionWarning: A column-vector y was passed when a 1d array was expected. Please change the shape of y to (n_samples,), for example using ravel().\n",
      "  self._final_estimator.fit(Xt, y, **fit_params_last_step)\n",
      "C:\\Users\\Xiangxian Song\\anaconda3\\lib\\site-packages\\sklearn\\pipeline.py:346: DataConversionWarning: A column-vector y was passed when a 1d array was expected. Please change the shape of y to (n_samples,), for example using ravel().\n",
      "  self._final_estimator.fit(Xt, y, **fit_params_last_step)\n",
      "C:\\Users\\Xiangxian Song\\anaconda3\\lib\\site-packages\\sklearn\\pipeline.py:346: DataConversionWarning: A column-vector y was passed when a 1d array was expected. Please change the shape of y to (n_samples,), for example using ravel().\n",
      "  self._final_estimator.fit(Xt, y, **fit_params_last_step)\n",
      "C:\\Users\\Xiangxian Song\\anaconda3\\lib\\site-packages\\sklearn\\pipeline.py:346: DataConversionWarning: A column-vector y was passed when a 1d array was expected. Please change the shape of y to (n_samples,), for example using ravel().\n",
      "  self._final_estimator.fit(Xt, y, **fit_params_last_step)\n",
      "C:\\Users\\Xiangxian Song\\anaconda3\\lib\\site-packages\\sklearn\\pipeline.py:346: DataConversionWarning: A column-vector y was passed when a 1d array was expected. Please change the shape of y to (n_samples,), for example using ravel().\n",
      "  self._final_estimator.fit(Xt, y, **fit_params_last_step)\n",
      "C:\\Users\\Xiangxian Song\\anaconda3\\lib\\site-packages\\sklearn\\pipeline.py:346: DataConversionWarning: A column-vector y was passed when a 1d array was expected. Please change the shape of y to (n_samples,), for example using ravel().\n",
      "  self._final_estimator.fit(Xt, y, **fit_params_last_step)\n",
      "C:\\Users\\Xiangxian Song\\anaconda3\\lib\\site-packages\\sklearn\\pipeline.py:346: DataConversionWarning: A column-vector y was passed when a 1d array was expected. Please change the shape of y to (n_samples,), for example using ravel().\n",
      "  self._final_estimator.fit(Xt, y, **fit_params_last_step)\n",
      "C:\\Users\\Xiangxian Song\\anaconda3\\lib\\site-packages\\sklearn\\pipeline.py:346: DataConversionWarning: A column-vector y was passed when a 1d array was expected. Please change the shape of y to (n_samples,), for example using ravel().\n",
      "  self._final_estimator.fit(Xt, y, **fit_params_last_step)\n",
      "C:\\Users\\Xiangxian Song\\anaconda3\\lib\\site-packages\\sklearn\\pipeline.py:346: DataConversionWarning: A column-vector y was passed when a 1d array was expected. Please change the shape of y to (n_samples,), for example using ravel().\n",
      "  self._final_estimator.fit(Xt, y, **fit_params_last_step)\n",
      "C:\\Users\\Xiangxian Song\\anaconda3\\lib\\site-packages\\sklearn\\pipeline.py:346: DataConversionWarning: A column-vector y was passed when a 1d array was expected. Please change the shape of y to (n_samples,), for example using ravel().\n",
      "  self._final_estimator.fit(Xt, y, **fit_params_last_step)\n",
      "C:\\Users\\Xiangxian Song\\anaconda3\\lib\\site-packages\\sklearn\\pipeline.py:346: DataConversionWarning: A column-vector y was passed when a 1d array was expected. Please change the shape of y to (n_samples,), for example using ravel().\n",
      "  self._final_estimator.fit(Xt, y, **fit_params_last_step)\n",
      "C:\\Users\\Xiangxian Song\\anaconda3\\lib\\site-packages\\sklearn\\pipeline.py:346: DataConversionWarning: A column-vector y was passed when a 1d array was expected. Please change the shape of y to (n_samples,), for example using ravel().\n",
      "  self._final_estimator.fit(Xt, y, **fit_params_last_step)\n",
      "C:\\Users\\Xiangxian Song\\anaconda3\\lib\\site-packages\\sklearn\\pipeline.py:346: DataConversionWarning: A column-vector y was passed when a 1d array was expected. Please change the shape of y to (n_samples,), for example using ravel().\n",
      "  self._final_estimator.fit(Xt, y, **fit_params_last_step)\n",
      "C:\\Users\\Xiangxian Song\\anaconda3\\lib\\site-packages\\sklearn\\pipeline.py:346: DataConversionWarning: A column-vector y was passed when a 1d array was expected. Please change the shape of y to (n_samples,), for example using ravel().\n",
      "  self._final_estimator.fit(Xt, y, **fit_params_last_step)\n",
      "C:\\Users\\Xiangxian Song\\anaconda3\\lib\\site-packages\\sklearn\\pipeline.py:346: DataConversionWarning: A column-vector y was passed when a 1d array was expected. Please change the shape of y to (n_samples,), for example using ravel().\n",
      "  self._final_estimator.fit(Xt, y, **fit_params_last_step)\n",
      "C:\\Users\\Xiangxian Song\\anaconda3\\lib\\site-packages\\sklearn\\pipeline.py:346: DataConversionWarning: A column-vector y was passed when a 1d array was expected. Please change the shape of y to (n_samples,), for example using ravel().\n",
      "  self._final_estimator.fit(Xt, y, **fit_params_last_step)\n",
      "C:\\Users\\Xiangxian Song\\anaconda3\\lib\\site-packages\\sklearn\\pipeline.py:346: DataConversionWarning: A column-vector y was passed when a 1d array was expected. Please change the shape of y to (n_samples,), for example using ravel().\n",
      "  self._final_estimator.fit(Xt, y, **fit_params_last_step)\n",
      "C:\\Users\\Xiangxian Song\\anaconda3\\lib\\site-packages\\sklearn\\pipeline.py:346: DataConversionWarning: A column-vector y was passed when a 1d array was expected. Please change the shape of y to (n_samples,), for example using ravel().\n",
      "  self._final_estimator.fit(Xt, y, **fit_params_last_step)\n",
      "C:\\Users\\Xiangxian Song\\anaconda3\\lib\\site-packages\\sklearn\\pipeline.py:346: DataConversionWarning: A column-vector y was passed when a 1d array was expected. Please change the shape of y to (n_samples,), for example using ravel().\n",
      "  self._final_estimator.fit(Xt, y, **fit_params_last_step)\n",
      "C:\\Users\\Xiangxian Song\\anaconda3\\lib\\site-packages\\sklearn\\pipeline.py:346: DataConversionWarning: A column-vector y was passed when a 1d array was expected. Please change the shape of y to (n_samples,), for example using ravel().\n",
      "  self._final_estimator.fit(Xt, y, **fit_params_last_step)\n",
      "C:\\Users\\Xiangxian Song\\anaconda3\\lib\\site-packages\\sklearn\\pipeline.py:346: DataConversionWarning: A column-vector y was passed when a 1d array was expected. Please change the shape of y to (n_samples,), for example using ravel().\n",
      "  self._final_estimator.fit(Xt, y, **fit_params_last_step)\n",
      "C:\\Users\\Xiangxian Song\\anaconda3\\lib\\site-packages\\sklearn\\pipeline.py:346: DataConversionWarning: A column-vector y was passed when a 1d array was expected. Please change the shape of y to (n_samples,), for example using ravel().\n",
      "  self._final_estimator.fit(Xt, y, **fit_params_last_step)\n",
      "C:\\Users\\Xiangxian Song\\anaconda3\\lib\\site-packages\\sklearn\\pipeline.py:346: DataConversionWarning: A column-vector y was passed when a 1d array was expected. Please change the shape of y to (n_samples,), for example using ravel().\n",
      "  self._final_estimator.fit(Xt, y, **fit_params_last_step)\n",
      "C:\\Users\\Xiangxian Song\\anaconda3\\lib\\site-packages\\sklearn\\pipeline.py:346: DataConversionWarning: A column-vector y was passed when a 1d array was expected. Please change the shape of y to (n_samples,), for example using ravel().\n",
      "  self._final_estimator.fit(Xt, y, **fit_params_last_step)\n"
     ]
    },
    {
     "name": "stderr",
     "output_type": "stream",
     "text": [
      "C:\\Users\\Xiangxian Song\\anaconda3\\lib\\site-packages\\sklearn\\pipeline.py:346: DataConversionWarning: A column-vector y was passed when a 1d array was expected. Please change the shape of y to (n_samples,), for example using ravel().\n",
      "  self._final_estimator.fit(Xt, y, **fit_params_last_step)\n",
      "C:\\Users\\Xiangxian Song\\anaconda3\\lib\\site-packages\\sklearn\\pipeline.py:346: DataConversionWarning: A column-vector y was passed when a 1d array was expected. Please change the shape of y to (n_samples,), for example using ravel().\n",
      "  self._final_estimator.fit(Xt, y, **fit_params_last_step)\n",
      "C:\\Users\\Xiangxian Song\\anaconda3\\lib\\site-packages\\sklearn\\pipeline.py:346: DataConversionWarning: A column-vector y was passed when a 1d array was expected. Please change the shape of y to (n_samples,), for example using ravel().\n",
      "  self._final_estimator.fit(Xt, y, **fit_params_last_step)\n",
      "C:\\Users\\Xiangxian Song\\anaconda3\\lib\\site-packages\\sklearn\\pipeline.py:346: DataConversionWarning: A column-vector y was passed when a 1d array was expected. Please change the shape of y to (n_samples,), for example using ravel().\n",
      "  self._final_estimator.fit(Xt, y, **fit_params_last_step)\n",
      "C:\\Users\\Xiangxian Song\\anaconda3\\lib\\site-packages\\sklearn\\pipeline.py:346: DataConversionWarning: A column-vector y was passed when a 1d array was expected. Please change the shape of y to (n_samples,), for example using ravel().\n",
      "  self._final_estimator.fit(Xt, y, **fit_params_last_step)\n",
      "C:\\Users\\Xiangxian Song\\anaconda3\\lib\\site-packages\\sklearn\\pipeline.py:346: DataConversionWarning: A column-vector y was passed when a 1d array was expected. Please change the shape of y to (n_samples,), for example using ravel().\n",
      "  self._final_estimator.fit(Xt, y, **fit_params_last_step)\n",
      "C:\\Users\\Xiangxian Song\\anaconda3\\lib\\site-packages\\sklearn\\pipeline.py:346: DataConversionWarning: A column-vector y was passed when a 1d array was expected. Please change the shape of y to (n_samples,), for example using ravel().\n",
      "  self._final_estimator.fit(Xt, y, **fit_params_last_step)\n",
      "C:\\Users\\Xiangxian Song\\anaconda3\\lib\\site-packages\\sklearn\\pipeline.py:346: DataConversionWarning: A column-vector y was passed when a 1d array was expected. Please change the shape of y to (n_samples,), for example using ravel().\n",
      "  self._final_estimator.fit(Xt, y, **fit_params_last_step)\n",
      "C:\\Users\\Xiangxian Song\\anaconda3\\lib\\site-packages\\sklearn\\pipeline.py:346: DataConversionWarning: A column-vector y was passed when a 1d array was expected. Please change the shape of y to (n_samples,), for example using ravel().\n",
      "  self._final_estimator.fit(Xt, y, **fit_params_last_step)\n",
      "C:\\Users\\Xiangxian Song\\anaconda3\\lib\\site-packages\\sklearn\\pipeline.py:346: DataConversionWarning: A column-vector y was passed when a 1d array was expected. Please change the shape of y to (n_samples,), for example using ravel().\n",
      "  self._final_estimator.fit(Xt, y, **fit_params_last_step)\n",
      "C:\\Users\\Xiangxian Song\\anaconda3\\lib\\site-packages\\sklearn\\pipeline.py:346: DataConversionWarning: A column-vector y was passed when a 1d array was expected. Please change the shape of y to (n_samples,), for example using ravel().\n",
      "  self._final_estimator.fit(Xt, y, **fit_params_last_step)\n",
      "C:\\Users\\Xiangxian Song\\anaconda3\\lib\\site-packages\\sklearn\\pipeline.py:346: DataConversionWarning: A column-vector y was passed when a 1d array was expected. Please change the shape of y to (n_samples,), for example using ravel().\n",
      "  self._final_estimator.fit(Xt, y, **fit_params_last_step)\n",
      "C:\\Users\\Xiangxian Song\\anaconda3\\lib\\site-packages\\sklearn\\pipeline.py:346: DataConversionWarning: A column-vector y was passed when a 1d array was expected. Please change the shape of y to (n_samples,), for example using ravel().\n",
      "  self._final_estimator.fit(Xt, y, **fit_params_last_step)\n",
      "C:\\Users\\Xiangxian Song\\anaconda3\\lib\\site-packages\\sklearn\\pipeline.py:346: DataConversionWarning: A column-vector y was passed when a 1d array was expected. Please change the shape of y to (n_samples,), for example using ravel().\n",
      "  self._final_estimator.fit(Xt, y, **fit_params_last_step)\n",
      "C:\\Users\\Xiangxian Song\\anaconda3\\lib\\site-packages\\sklearn\\pipeline.py:346: DataConversionWarning: A column-vector y was passed when a 1d array was expected. Please change the shape of y to (n_samples,), for example using ravel().\n",
      "  self._final_estimator.fit(Xt, y, **fit_params_last_step)\n",
      "C:\\Users\\Xiangxian Song\\anaconda3\\lib\\site-packages\\sklearn\\pipeline.py:346: DataConversionWarning: A column-vector y was passed when a 1d array was expected. Please change the shape of y to (n_samples,), for example using ravel().\n",
      "  self._final_estimator.fit(Xt, y, **fit_params_last_step)\n",
      "C:\\Users\\Xiangxian Song\\anaconda3\\lib\\site-packages\\sklearn\\pipeline.py:346: DataConversionWarning: A column-vector y was passed when a 1d array was expected. Please change the shape of y to (n_samples,), for example using ravel().\n",
      "  self._final_estimator.fit(Xt, y, **fit_params_last_step)\n",
      "C:\\Users\\Xiangxian Song\\anaconda3\\lib\\site-packages\\sklearn\\pipeline.py:346: DataConversionWarning: A column-vector y was passed when a 1d array was expected. Please change the shape of y to (n_samples,), for example using ravel().\n",
      "  self._final_estimator.fit(Xt, y, **fit_params_last_step)\n",
      "C:\\Users\\Xiangxian Song\\anaconda3\\lib\\site-packages\\sklearn\\pipeline.py:346: DataConversionWarning: A column-vector y was passed when a 1d array was expected. Please change the shape of y to (n_samples,), for example using ravel().\n",
      "  self._final_estimator.fit(Xt, y, **fit_params_last_step)\n",
      "C:\\Users\\Xiangxian Song\\anaconda3\\lib\\site-packages\\sklearn\\pipeline.py:346: DataConversionWarning: A column-vector y was passed when a 1d array was expected. Please change the shape of y to (n_samples,), for example using ravel().\n",
      "  self._final_estimator.fit(Xt, y, **fit_params_last_step)\n",
      "C:\\Users\\Xiangxian Song\\anaconda3\\lib\\site-packages\\sklearn\\pipeline.py:346: DataConversionWarning: A column-vector y was passed when a 1d array was expected. Please change the shape of y to (n_samples,), for example using ravel().\n",
      "  self._final_estimator.fit(Xt, y, **fit_params_last_step)\n",
      "C:\\Users\\Xiangxian Song\\anaconda3\\lib\\site-packages\\sklearn\\pipeline.py:346: DataConversionWarning: A column-vector y was passed when a 1d array was expected. Please change the shape of y to (n_samples,), for example using ravel().\n",
      "  self._final_estimator.fit(Xt, y, **fit_params_last_step)\n",
      "C:\\Users\\Xiangxian Song\\anaconda3\\lib\\site-packages\\sklearn\\pipeline.py:346: DataConversionWarning: A column-vector y was passed when a 1d array was expected. Please change the shape of y to (n_samples,), for example using ravel().\n",
      "  self._final_estimator.fit(Xt, y, **fit_params_last_step)\n",
      "C:\\Users\\Xiangxian Song\\anaconda3\\lib\\site-packages\\sklearn\\pipeline.py:346: DataConversionWarning: A column-vector y was passed when a 1d array was expected. Please change the shape of y to (n_samples,), for example using ravel().\n",
      "  self._final_estimator.fit(Xt, y, **fit_params_last_step)\n",
      "C:\\Users\\Xiangxian Song\\anaconda3\\lib\\site-packages\\sklearn\\pipeline.py:346: DataConversionWarning: A column-vector y was passed when a 1d array was expected. Please change the shape of y to (n_samples,), for example using ravel().\n",
      "  self._final_estimator.fit(Xt, y, **fit_params_last_step)\n",
      "C:\\Users\\Xiangxian Song\\anaconda3\\lib\\site-packages\\sklearn\\pipeline.py:346: DataConversionWarning: A column-vector y was passed when a 1d array was expected. Please change the shape of y to (n_samples,), for example using ravel().\n",
      "  self._final_estimator.fit(Xt, y, **fit_params_last_step)\n",
      "C:\\Users\\Xiangxian Song\\anaconda3\\lib\\site-packages\\sklearn\\pipeline.py:346: DataConversionWarning: A column-vector y was passed when a 1d array was expected. Please change the shape of y to (n_samples,), for example using ravel().\n",
      "  self._final_estimator.fit(Xt, y, **fit_params_last_step)\n",
      "C:\\Users\\Xiangxian Song\\anaconda3\\lib\\site-packages\\sklearn\\pipeline.py:346: DataConversionWarning: A column-vector y was passed when a 1d array was expected. Please change the shape of y to (n_samples,), for example using ravel().\n",
      "  self._final_estimator.fit(Xt, y, **fit_params_last_step)\n",
      "C:\\Users\\Xiangxian Song\\anaconda3\\lib\\site-packages\\sklearn\\pipeline.py:346: DataConversionWarning: A column-vector y was passed when a 1d array was expected. Please change the shape of y to (n_samples,), for example using ravel().\n",
      "  self._final_estimator.fit(Xt, y, **fit_params_last_step)\n"
     ]
    },
    {
     "name": "stderr",
     "output_type": "stream",
     "text": [
      "C:\\Users\\Xiangxian Song\\anaconda3\\lib\\site-packages\\sklearn\\pipeline.py:346: DataConversionWarning: A column-vector y was passed when a 1d array was expected. Please change the shape of y to (n_samples,), for example using ravel().\n",
      "  self._final_estimator.fit(Xt, y, **fit_params_last_step)\n",
      "C:\\Users\\Xiangxian Song\\anaconda3\\lib\\site-packages\\sklearn\\pipeline.py:346: DataConversionWarning: A column-vector y was passed when a 1d array was expected. Please change the shape of y to (n_samples,), for example using ravel().\n",
      "  self._final_estimator.fit(Xt, y, **fit_params_last_step)\n",
      "C:\\Users\\Xiangxian Song\\anaconda3\\lib\\site-packages\\sklearn\\pipeline.py:346: DataConversionWarning: A column-vector y was passed when a 1d array was expected. Please change the shape of y to (n_samples,), for example using ravel().\n",
      "  self._final_estimator.fit(Xt, y, **fit_params_last_step)\n"
     ]
    },
    {
     "data": {
      "text/plain": [
       "GridSearchCV(cv=5,\n",
       "             estimator=Pipeline(steps=[('standardscaler', StandardScaler()),\n",
       "                                       ('randomforestregressor',\n",
       "                                        RandomForestRegressor())]),\n",
       "             param_grid={'randomforestregressor__max_depth': [None, 5, 3, 1],\n",
       "                         'randomforestregressor__max_features': ['auto', 'sqrt',\n",
       "                                                                 'log2']})"
      ]
     },
     "execution_count": 24,
     "metadata": {},
     "output_type": "execute_result"
    }
   ],
   "source": [
    "# Model tuning\n",
    "# Cross-validation is a process of reliably estimating the performance of a method that builds a model \n",
    "# by training and evaluating our model multiple times using the same method.\n",
    "from sklearn.model_selection import GridSearchCV \n",
    "mrl2 = GridSearchCV(pipeline,hyperparameters,cv= 5) \n",
    "mrl2.fit(x_train, y_train) "
   ]
  },
  {
   "cell_type": "code",
   "execution_count": 25,
   "id": "a455806b",
   "metadata": {},
   "outputs": [
    {
     "data": {
      "text/plain": [
       "array([5.12, 6.38, 5.53, ..., 5.04, 5.16, 5.3 ])"
      ]
     },
     "execution_count": 25,
     "metadata": {},
     "output_type": "execute_result"
    }
   ],
   "source": [
    "# Predict x_test after using cross-validation\n",
    "pred = mrl2.predict(x_test) \n",
    "pred"
   ]
  },
  {
   "cell_type": "code",
   "execution_count": 26,
   "id": "78739407",
   "metadata": {},
   "outputs": [
    {
     "name": "stdout",
     "output_type": "stream",
     "text": [
      "The R² value of mrl2 is： 0.5359349139305069\n",
      "The MSE of mrl2 is： 0.3445614615384615\n"
     ]
    }
   ],
   "source": [
    "# Evaluate the Model\n",
    "from sklearn.metrics import mean_squared_error,r2_score,precision_score\n",
    "print(\"The R² value of mrl2 is：\",r2_score(y_test,pred)) \n",
    "# Our R² increased from 39% to 46%. This means that the fit becomes higher.\n",
    "print(\"The MSE of mrl2 is：\",mean_squared_error(y_test, pred))\n",
    "# Mean square error is the expected value that reflects the degree of difference between the estimator and the real quantity.\n",
    "# It is often used to evaluate the degree of change in the data and predict the accuracy of the data."
   ]
  },
  {
   "cell_type": "code",
   "execution_count": 27,
   "id": "ec3ad01b",
   "metadata": {},
   "outputs": [
    {
     "data": {
      "text/html": [
       "<div>\n",
       "<style scoped>\n",
       "    .dataframe tbody tr th:only-of-type {\n",
       "        vertical-align: middle;\n",
       "    }\n",
       "\n",
       "    .dataframe tbody tr th {\n",
       "        vertical-align: top;\n",
       "    }\n",
       "\n",
       "    .dataframe thead th {\n",
       "        text-align: right;\n",
       "    }\n",
       "</style>\n",
       "<table border=\"1\" class=\"dataframe\">\n",
       "  <thead>\n",
       "    <tr style=\"text-align: right;\">\n",
       "      <th></th>\n",
       "      <th>fixed acidity</th>\n",
       "      <th>volatile acidity</th>\n",
       "      <th>citric acid</th>\n",
       "      <th>residual sugar</th>\n",
       "      <th>chlorides</th>\n",
       "      <th>free sulfur dioxide</th>\n",
       "      <th>total sulfur dioxide</th>\n",
       "      <th>density</th>\n",
       "      <th>pH</th>\n",
       "      <th>sulphates</th>\n",
       "      <th>alcohol</th>\n",
       "    </tr>\n",
       "  </thead>\n",
       "  <tbody>\n",
       "    <tr>\n",
       "      <th>0</th>\n",
       "      <td>6.4</td>\n",
       "      <td>0.27</td>\n",
       "      <td>0.30</td>\n",
       "      <td>1.6</td>\n",
       "      <td>0.040</td>\n",
       "      <td>19.0</td>\n",
       "      <td>86.0</td>\n",
       "      <td>0.99089</td>\n",
       "      <td>3.32</td>\n",
       "      <td>0.65</td>\n",
       "      <td>11.5</td>\n",
       "    </tr>\n",
       "    <tr>\n",
       "      <th>1</th>\n",
       "      <td>7.1</td>\n",
       "      <td>0.28</td>\n",
       "      <td>0.35</td>\n",
       "      <td>3.5</td>\n",
       "      <td>0.028</td>\n",
       "      <td>35.0</td>\n",
       "      <td>91.0</td>\n",
       "      <td>0.99022</td>\n",
       "      <td>2.96</td>\n",
       "      <td>0.33</td>\n",
       "      <td>12.1</td>\n",
       "    </tr>\n",
       "  </tbody>\n",
       "</table>\n",
       "</div>"
      ],
      "text/plain": [
       "   fixed acidity  volatile acidity  citric acid  residual sugar  chlorides  \\\n",
       "0            6.4              0.27         0.30             1.6      0.040   \n",
       "1            7.1              0.28         0.35             3.5      0.028   \n",
       "\n",
       "   free sulfur dioxide  total sulfur dioxide  density    pH  sulphates  \\\n",
       "0                 19.0                  86.0  0.99089  3.32       0.65   \n",
       "1                 35.0                  91.0  0.99022  2.96       0.33   \n",
       "\n",
       "   alcohol  \n",
       "0     11.5  \n",
       "1     12.1  "
      ]
     },
     "execution_count": 27,
     "metadata": {},
     "output_type": "execute_result"
    }
   ],
   "source": [
    "x_pre=pd.DataFrame({\"fixed acidity\":[6.4,7.1],\n",
    "                    \"volatile acidity\":[0.27,0.28],\n",
    "                    \"citric acid\":[0.30,0.35],\n",
    "                    \"residual sugar\":[1.6,3.5],\n",
    "                    \"chlorides\":[0.040,0.028],\n",
    "                    \"free sulfur dioxide\":[19.0,35.0],\n",
    "                    \"total sulfur dioxide\":[86.0,91.0],\n",
    "                    \"density\":[0.99089,0.99022],\n",
    "                    \"pH\":[3.32,2.96],\n",
    "                    \"sulphates\":[0.65,0.33],\n",
    "                    \"alcohol\":[11.5,12.1]})\n",
    "x_pre"
   ]
  },
  {
   "cell_type": "code",
   "execution_count": 28,
   "id": "36b39c09",
   "metadata": {},
   "outputs": [
    {
     "data": {
      "text/plain": [
       "array([6.44, 5.54])"
      ]
     },
     "execution_count": 28,
     "metadata": {},
     "output_type": "execute_result"
    }
   ],
   "source": [
    "mrl2.predict(x_pre) "
   ]
  },
  {
   "cell_type": "markdown",
   "id": "1f705aaf",
   "metadata": {},
   "source": [
    "Create a simple UI for people to predict wine quality"
   ]
  },
  {
   "cell_type": "code",
   "execution_count": 28,
   "id": "5e8415d5",
   "metadata": {},
   "outputs": [],
   "source": [
    "import PySimpleGUI as sg"
   ]
  },
  {
   "cell_type": "code",
   "execution_count": 29,
   "id": "3d44adcb",
   "metadata": {},
   "outputs": [],
   "source": [
    "# Define the layout, create the number of rows\n",
    "layout = [      [sg.Text(\"Please Enter the Features of the Wine：\")],      \n",
    "                [sg.Text(\"Fixed Acidity: \"),sg.InputText(key=\"1\")],\n",
    "                [sg.Text(\"Volatile Acidity: \"),sg.InputText(key=\"2\")],\n",
    "                [sg.Text(\"Citric Acid: \"),sg.InputText(key=\"3\")],\n",
    "                [sg.Text(\"Residual Sugar: \"),sg.InputText(key=\"4\")],\n",
    "                [sg.Text(\"Chlorides: \"),sg.InputText(key=\"5\")],\n",
    "                [sg.Text(\"Free Sulfur Dioxide: \"),sg.InputText(key=\"6\")],\n",
    "                [sg.Text(\"Total Sulfur Dioxide: \"),sg.InputText(key=\"7\")],\n",
    "                [sg.Text(\"Density: \"),sg.InputText(key=\"8\")],\n",
    "                [sg.Text(\"Ph: \"),sg.InputText(key=\"9\")],\n",
    "                [sg.Text(\"Sulphates: \"),sg.InputText(key=\"10\")],\n",
    "                [sg.Text(\"Alcohol: \"),sg.InputText(key=\"11\")],\n",
    "                [sg.Button(\"Forecast Quality\")]\n",
    "         ]"
   ]
  },
  {
   "cell_type": "code",
   "execution_count": 30,
   "id": "89bbac41",
   "metadata": {},
   "outputs": [],
   "source": [
    "# create window\n",
    "window = sg.Window(\"Wine Quality Predictor\",layout)"
   ]
  },
  {
   "cell_type": "code",
   "execution_count": 31,
   "id": "70a415c0",
   "metadata": {},
   "outputs": [],
   "source": [
    "while True:\n",
    "        event,values = window.read()\n",
    "        if event == \"Forecast Quality\":\n",
    "           \n",
    "           quality = mrl2.predict([[values['1'],values['2'],values['3'],values['4'],values['5'],values['6'],\n",
    "                                 values['7'],values['8'],values['9'],values['10'],values['11']]])\n",
    "            \n",
    "           quality = \"The quality of the wine is \\n\" + str(int(quality)) \n",
    "        \n",
    "           sg.popup(quality,title= \"Forecast Result\")\n",
    "            \n",
    "        if event == None:\n",
    "           break\n",
    "window.close()"
   ]
  }
 ],
 "metadata": {
  "kernelspec": {
   "display_name": "Python 3 (ipykernel)",
   "language": "python",
   "name": "python3"
  },
  "language_info": {
   "codemirror_mode": {
    "name": "ipython",
    "version": 3
   },
   "file_extension": ".py",
   "mimetype": "text/x-python",
   "name": "python",
   "nbconvert_exporter": "python",
   "pygments_lexer": "ipython3",
   "version": "3.9.7"
  }
 },
 "nbformat": 4,
 "nbformat_minor": 5
}
